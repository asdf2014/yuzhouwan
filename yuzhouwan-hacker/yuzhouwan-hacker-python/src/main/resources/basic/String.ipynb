{
 "cells": [
  {
   "cell_type": "markdown",
   "id": "4ed96eb7",
   "metadata": {},
   "source": [
    "## String 定义"
   ]
  },
  {
   "cell_type": "code",
   "execution_count": 1,
   "id": "55bd5a2b",
   "metadata": {},
   "outputs": [
    {
     "data": {
      "text/plain": [
       "'Hello, yuzhouwan!'"
      ]
     },
     "execution_count": 1,
     "metadata": {},
     "output_type": "execute_result"
    }
   ],
   "source": [
    "\"Hello, yuzhouwan!\""
   ]
  },
  {
   "cell_type": "code",
   "execution_count": 2,
   "id": "2fec5578",
   "metadata": {},
   "outputs": [
    {
     "data": {
      "text/plain": [
       "'123abc!@#'"
      ]
     },
     "execution_count": 2,
     "metadata": {},
     "output_type": "execute_result"
    }
   ],
   "source": [
    "\"\"\"123abc!@#\"\"\""
   ]
  },
  {
   "cell_type": "code",
   "execution_count": 3,
   "id": "4266f975",
   "metadata": {
    "scrolled": true
   },
   "outputs": [
    {
     "data": {
      "text/plain": [
       "'a'"
      ]
     },
     "execution_count": 3,
     "metadata": {},
     "output_type": "execute_result"
    }
   ],
   "source": [
    "'a'"
   ]
  },
  {
   "cell_type": "code",
   "execution_count": 4,
   "id": "4609643a",
   "metadata": {},
   "outputs": [
    {
     "data": {
      "text/plain": [
       "'1 + 1'"
      ]
     },
     "execution_count": 4,
     "metadata": {},
     "output_type": "execute_result"
    }
   ],
   "source": [
    "\"1 + 1\""
   ]
  },
  {
   "cell_type": "markdown",
   "id": "bf97e2ea",
   "metadata": {},
   "source": [
    "## 打印 String"
   ]
  },
  {
   "cell_type": "code",
   "execution_count": 5,
   "id": "a6ba546d",
   "metadata": {},
   "outputs": [
    {
     "name": "stdout",
     "output_type": "stream",
     "text": [
      "Hello, yuzhouwan!\n"
     ]
    }
   ],
   "source": [
    "print(\"Hello, yuzhouwan!\")"
   ]
  },
  {
   "cell_type": "code",
   "execution_count": 6,
   "id": "b3095674",
   "metadata": {
    "scrolled": true
   },
   "outputs": [
    {
     "name": "stdout",
     "output_type": "stream",
     "text": [
      "Hello, 宇宙湾!\n"
     ]
    }
   ],
   "source": [
    "print(\"Hello, %s!\" % \"宇宙湾\")"
   ]
  },
  {
   "cell_type": "code",
   "execution_count": 7,
   "id": "456d082c",
   "metadata": {},
   "outputs": [
    {
     "name": "stdout",
     "output_type": "stream",
     "text": [
      "Hello, 宇宙湾!\n"
     ]
    }
   ],
   "source": [
    "print(\"%s, %s!\" % (\"Hello\", \"宇宙湾\"))"
   ]
  },
  {
   "cell_type": "code",
   "execution_count": 8,
   "id": "a0731b02",
   "metadata": {
    "scrolled": true
   },
   "outputs": [
    {
     "name": "stdout",
     "output_type": "stream",
     "text": [
      "Hello, 宇宙湾!\n"
     ]
    }
   ],
   "source": [
    "print(\"Hello,\", \"宇宙湾!\")"
   ]
  },
  {
   "cell_type": "markdown",
   "id": "d35f26a0",
   "metadata": {},
   "source": [
    "## String 拼接"
   ]
  },
  {
   "cell_type": "code",
   "execution_count": 9,
   "id": "ac899e10",
   "metadata": {
    "scrolled": true
   },
   "outputs": [
    {
     "data": {
      "text/plain": [
       "'Hello, 宇宙湾!'"
      ]
     },
     "execution_count": 9,
     "metadata": {},
     "output_type": "execute_result"
    }
   ],
   "source": [
    "\"Hello\" + \", \" + \"宇宙湾\" + \"!\""
   ]
  },
  {
   "cell_type": "markdown",
   "id": "4d3be727",
   "metadata": {},
   "source": [
    "## String 变量赋值"
   ]
  },
  {
   "cell_type": "code",
   "execution_count": 10,
   "id": "34b7ee50",
   "metadata": {},
   "outputs": [
    {
     "name": "stdout",
     "output_type": "stream",
     "text": [
      "abc\n"
     ]
    }
   ],
   "source": [
    "s = \"abc\"\n",
    "print(s)"
   ]
  },
  {
   "cell_type": "code",
   "execution_count": 11,
   "id": "2b0188e4",
   "metadata": {},
   "outputs": [
    {
     "name": "stdout",
     "output_type": "stream",
     "text": [
      "\n",
      "print(\"Hello, %s!\" % \"宇宙湾\")\n",
      "\n"
     ]
    }
   ],
   "source": [
    "s = \"\"\"\n",
    "print(\"Hello, %s!\" % \"宇宙湾\")\n",
    "\"\"\"\n",
    "print(s)"
   ]
  },
  {
   "cell_type": "code",
   "execution_count": 12,
   "id": "ee1798b4",
   "metadata": {},
   "outputs": [
    {
     "name": "stdout",
     "output_type": "stream",
     "text": [
      "Hello, 宇宙湾!\n"
     ]
    }
   ],
   "source": [
    "s1 = \"Hello\"\n",
    "s2 = \", \"\n",
    "s3 = \"宇宙湾\"\n",
    "s4 = \"!\"\n",
    "print(s1 + s2 + s3 + s4)"
   ]
  },
  {
   "cell_type": "code",
   "execution_count": 13,
   "id": "273e9571",
   "metadata": {},
   "outputs": [
    {
     "name": "stdout",
     "output_type": "stream",
     "text": [
      "asdf2014\n"
     ]
    }
   ],
   "source": [
    "s = \"asdf\"\n",
    "print(s + \"2014\")"
   ]
  },
  {
   "cell_type": "markdown",
   "id": "1bbc5f98",
   "metadata": {},
   "source": [
    "## String 类型转换"
   ]
  },
  {
   "cell_type": "markdown",
   "id": "71c1c4ec",
   "metadata": {},
   "source": [
    "### 正常情况"
   ]
  },
  {
   "cell_type": "code",
   "execution_count": 14,
   "id": "acea735f",
   "metadata": {},
   "outputs": [
    {
     "data": {
      "text/plain": [
       "'123'"
      ]
     },
     "execution_count": 14,
     "metadata": {},
     "output_type": "execute_result"
    }
   ],
   "source": [
    "str(123)"
   ]
  },
  {
   "cell_type": "code",
   "execution_count": 15,
   "id": "68d35f91",
   "metadata": {},
   "outputs": [
    {
     "data": {
      "text/plain": [
       "123"
      ]
     },
     "execution_count": 15,
     "metadata": {},
     "output_type": "execute_result"
    }
   ],
   "source": [
    "int(123)"
   ]
  },
  {
   "cell_type": "code",
   "execution_count": 16,
   "id": "2497e518",
   "metadata": {},
   "outputs": [
    {
     "data": {
      "text/plain": [
       "123"
      ]
     },
     "execution_count": 16,
     "metadata": {},
     "output_type": "execute_result"
    }
   ],
   "source": [
    "int('123')"
   ]
  },
  {
   "cell_type": "code",
   "execution_count": 17,
   "id": "1cd932fa",
   "metadata": {},
   "outputs": [
    {
     "data": {
      "text/plain": [
       "123"
      ]
     },
     "execution_count": 17,
     "metadata": {},
     "output_type": "execute_result"
    }
   ],
   "source": [
    "int(\"123\")"
   ]
  },
  {
   "cell_type": "code",
   "execution_count": 18,
   "id": "6b4a409b",
   "metadata": {},
   "outputs": [
    {
     "data": {
      "text/plain": [
       "123.1"
      ]
     },
     "execution_count": 18,
     "metadata": {},
     "output_type": "execute_result"
    }
   ],
   "source": [
    "float('123.1')"
   ]
  },
  {
   "cell_type": "code",
   "execution_count": 19,
   "id": "e2d7cb43",
   "metadata": {},
   "outputs": [
    {
     "data": {
      "text/plain": [
       "'123.1'"
      ]
     },
     "execution_count": 19,
     "metadata": {},
     "output_type": "execute_result"
    }
   ],
   "source": [
    "str(123.1)"
   ]
  },
  {
   "cell_type": "markdown",
   "id": "c5d8b417",
   "metadata": {},
   "source": [
    "### 异常情况"
   ]
  },
  {
   "cell_type": "code",
   "execution_count": 56,
   "id": "20d50eca",
   "metadata": {},
   "outputs": [
    {
     "ename": "ValueError",
     "evalue": "invalid literal for int() with base 10: '123.1'",
     "output_type": "error",
     "traceback": [
      "\u001b[0;31m---------------------------------------------------------------------------\u001b[0m",
      "\u001b[0;31mValueError\u001b[0m                                Traceback (most recent call last)",
      "\u001b[0;32m/var/folders/hx/6mv7jqx55kv22rmhsrqcq6743mtlcy/T/ipykernel_34469/903623054.py\u001b[0m in \u001b[0;36m<module>\u001b[0;34m\u001b[0m\n\u001b[0;32m----> 1\u001b[0;31m \u001b[0mint\u001b[0m\u001b[0;34m(\u001b[0m\u001b[0;34m\"123.1\"\u001b[0m\u001b[0;34m)\u001b[0m\u001b[0;34m\u001b[0m\u001b[0;34m\u001b[0m\u001b[0m\n\u001b[0m",
      "\u001b[0;31mValueError\u001b[0m: invalid literal for int() with base 10: '123.1'"
     ]
    }
   ],
   "source": [
    "int(\"123.1\")"
   ]
  },
  {
   "cell_type": "markdown",
   "id": "d8c5fcc3",
   "metadata": {},
   "source": [
    "## String 与字符的关系"
   ]
  },
  {
   "cell_type": "markdown",
   "id": "f31b2657",
   "metadata": {},
   "source": [
    "### 正常情况"
   ]
  },
  {
   "cell_type": "code",
   "execution_count": 21,
   "id": "ae4a4331",
   "metadata": {},
   "outputs": [
    {
     "name": "stdout",
     "output_type": "stream",
     "text": [
      "0\n",
      "1\n",
      "2\n",
      "3\n",
      "4\n",
      "5\n",
      "6\n",
      "7\n",
      "8\n",
      "9\n"
     ]
    }
   ],
   "source": [
    "s = \"0123456789\"\n",
    "print(s[0])\n",
    "print(s[1])\n",
    "print(s[2])\n",
    "print(s[3])\n",
    "print(s[4])\n",
    "print(s[5])\n",
    "print(s[6])\n",
    "print(s[7])\n",
    "print(s[8])\n",
    "print(s[9])"
   ]
  },
  {
   "cell_type": "code",
   "execution_count": 22,
   "id": "c364b97c",
   "metadata": {},
   "outputs": [
    {
     "name": "stdout",
     "output_type": "stream",
     "text": [
      "9\n",
      "8\n",
      "7\n",
      "6\n",
      "5\n",
      "4\n",
      "3\n",
      "2\n",
      "1\n",
      "0\n"
     ]
    }
   ],
   "source": [
    "print(s[-1])\n",
    "print(s[-2])\n",
    "print(s[-3])\n",
    "print(s[-4])\n",
    "print(s[-5])\n",
    "print(s[-6])\n",
    "print(s[-7])\n",
    "print(s[-8])\n",
    "print(s[-9])\n",
    "print(s[-10])"
   ]
  },
  {
   "cell_type": "markdown",
   "id": "8a4951f9",
   "metadata": {},
   "source": [
    "### 异常情况"
   ]
  },
  {
   "cell_type": "code",
   "execution_count": 55,
   "id": "248882cf",
   "metadata": {},
   "outputs": [
    {
     "ename": "IndexError",
     "evalue": "string index out of range",
     "output_type": "error",
     "traceback": [
      "\u001b[0;31m---------------------------------------------------------------------------\u001b[0m",
      "\u001b[0;31mIndexError\u001b[0m                                Traceback (most recent call last)",
      "\u001b[0;32m/var/folders/hx/6mv7jqx55kv22rmhsrqcq6743mtlcy/T/ipykernel_34469/2713526799.py\u001b[0m in \u001b[0;36m<module>\u001b[0;34m\u001b[0m\n\u001b[0;32m----> 1\u001b[0;31m \u001b[0mprint\u001b[0m\u001b[0;34m(\u001b[0m\u001b[0ms\u001b[0m\u001b[0;34m[\u001b[0m\u001b[0;34m-\u001b[0m\u001b[0;36m11\u001b[0m\u001b[0;34m]\u001b[0m\u001b[0;34m)\u001b[0m\u001b[0;34m\u001b[0m\u001b[0;34m\u001b[0m\u001b[0m\n\u001b[0m",
      "\u001b[0;31mIndexError\u001b[0m: string index out of range"
     ]
    }
   ],
   "source": [
    "print(s[-11])"
   ]
  },
  {
   "cell_type": "code",
   "execution_count": 24,
   "id": "9cee1527",
   "metadata": {},
   "outputs": [
    {
     "name": "stdout",
     "output_type": "stream",
     "text": [
      "0\n"
     ]
    }
   ],
   "source": [
    "print(s[-0])"
   ]
  },
  {
   "cell_type": "markdown",
   "id": "333503eb",
   "metadata": {},
   "source": [
    "### 进阶用法"
   ]
  },
  {
   "cell_type": "code",
   "execution_count": 25,
   "id": "6836d82b",
   "metadata": {},
   "outputs": [
    {
     "data": {
      "text/plain": [
       "'9876543210'"
      ]
     },
     "execution_count": 25,
     "metadata": {},
     "output_type": "execute_result"
    }
   ],
   "source": [
    "s[::-1]"
   ]
  },
  {
   "cell_type": "code",
   "execution_count": 26,
   "id": "ccafdf55",
   "metadata": {},
   "outputs": [
    {
     "name": "stdout",
     "output_type": "stream",
     "text": [
      "0\n",
      "1\n",
      "2\n",
      "3\n",
      "4\n",
      "5\n",
      "6\n",
      "7\n",
      "8\n",
      "9\n"
     ]
    }
   ],
   "source": [
    "for _ in s:\n",
    "    print(_)"
   ]
  },
  {
   "cell_type": "code",
   "execution_count": 27,
   "id": "24b51a93",
   "metadata": {},
   "outputs": [
    {
     "name": "stdout",
     "output_type": "stream",
     "text": [
      "0 0\n",
      "<class 'int'> <class 'str'>\n",
      "2 2\n",
      "<class 'int'> <class 'str'>\n",
      "4 4\n",
      "<class 'int'> <class 'str'>\n",
      "6 6\n",
      "<class 'int'> <class 'str'>\n",
      "8 8\n",
      "<class 'int'> <class 'str'>\n"
     ]
    }
   ],
   "source": [
    " for i, c in enumerate(s):\n",
    "    if i % 2 == 0:\n",
    "        print(i, c)\n",
    "        print(type(i), type(c))"
   ]
  },
  {
   "cell_type": "code",
   "execution_count": 28,
   "id": "33eca01c",
   "metadata": {},
   "outputs": [
    {
     "name": "stdout",
     "output_type": "stream",
     "text": [
      "9\n",
      "8\n",
      "7\n",
      "6\n",
      "5\n",
      "4\n",
      "3\n",
      "2\n",
      "1\n",
      "0\n"
     ]
    }
   ],
   "source": [
    "for _ in s[::-1]:\n",
    "    print(_)"
   ]
  },
  {
   "cell_type": "code",
   "execution_count": 29,
   "id": "db059d2e",
   "metadata": {},
   "outputs": [
    {
     "name": "stdout",
     "output_type": "stream",
     "text": [
      "9876543210"
     ]
    }
   ],
   "source": [
    "for _ in s[::-1]:\n",
    "    print(_, end='')"
   ]
  },
  {
   "cell_type": "code",
   "execution_count": 30,
   "id": "c454223b",
   "metadata": {},
   "outputs": [
    {
     "data": {
      "text/plain": [
       "'012'"
      ]
     },
     "execution_count": 30,
     "metadata": {},
     "output_type": "execute_result"
    }
   ],
   "source": [
    "s[0:3]"
   ]
  },
  {
   "cell_type": "code",
   "execution_count": 31,
   "id": "bc293679",
   "metadata": {},
   "outputs": [
    {
     "data": {
      "text/plain": [
       "'0123456789'"
      ]
     },
     "execution_count": 31,
     "metadata": {},
     "output_type": "execute_result"
    }
   ],
   "source": [
    "s[0:100]"
   ]
  },
  {
   "cell_type": "code",
   "execution_count": 32,
   "id": "20dca502",
   "metadata": {},
   "outputs": [
    {
     "data": {
      "text/plain": [
       "'92'"
      ]
     },
     "execution_count": 32,
     "metadata": {},
     "output_type": "execute_result"
    }
   ],
   "source": [
    "s[-1::-7]"
   ]
  },
  {
   "cell_type": "code",
   "execution_count": 33,
   "id": "2f84b062",
   "metadata": {},
   "outputs": [
    {
     "data": {
      "text/plain": [
       "'92'"
      ]
     },
     "execution_count": 33,
     "metadata": {},
     "output_type": "execute_result"
    }
   ],
   "source": [
    "s[::-7]"
   ]
  },
  {
   "cell_type": "code",
   "execution_count": 34,
   "id": "8b068012",
   "metadata": {},
   "outputs": [
    {
     "data": {
      "text/plain": [
       "'9876543210'"
      ]
     },
     "execution_count": 34,
     "metadata": {},
     "output_type": "execute_result"
    }
   ],
   "source": [
    "# s[::-1]\n",
    "s[-1:-11:-1]"
   ]
  },
  {
   "cell_type": "code",
   "execution_count": 35,
   "id": "c43d1997",
   "metadata": {},
   "outputs": [
    {
     "data": {
      "text/plain": [
       "'0123456789'"
      ]
     },
     "execution_count": 35,
     "metadata": {},
     "output_type": "execute_result"
    }
   ],
   "source": [
    "# s[0:10]\n",
    "s[0:10:1]"
   ]
  },
  {
   "cell_type": "markdown",
   "id": "844f01c0",
   "metadata": {},
   "source": [
    "## 分割 String"
   ]
  },
  {
   "cell_type": "code",
   "execution_count": 36,
   "id": "f08d68c4",
   "metadata": {},
   "outputs": [
    {
     "data": {
      "text/plain": [
       "['a', 'b', 'c']"
      ]
     },
     "execution_count": 36,
     "metadata": {},
     "output_type": "execute_result"
    }
   ],
   "source": [
    "'a b c'.split(' ')"
   ]
  },
  {
   "cell_type": "code",
   "execution_count": 37,
   "id": "c69c9758",
   "metadata": {},
   "outputs": [
    {
     "data": {
      "text/plain": [
       "['a', 'b c']"
      ]
     },
     "execution_count": 37,
     "metadata": {},
     "output_type": "execute_result"
    }
   ],
   "source": [
    "'a b c'.split(' ', 1)"
   ]
  },
  {
   "cell_type": "code",
   "execution_count": 38,
   "id": "d9456914",
   "metadata": {},
   "outputs": [
    {
     "data": {
      "text/plain": [
       "['a', 'b', 'c']"
      ]
     },
     "execution_count": 38,
     "metadata": {},
     "output_type": "execute_result"
    }
   ],
   "source": [
    "'a b c'.split(' ', 2)"
   ]
  },
  {
   "cell_type": "code",
   "execution_count": 39,
   "id": "a9900f3a",
   "metadata": {},
   "outputs": [
    {
     "data": {
      "text/plain": [
       "['a', 'b', 'c d']"
      ]
     },
     "execution_count": 39,
     "metadata": {},
     "output_type": "execute_result"
    }
   ],
   "source": [
    "'a b c d'.split(' ', 2)"
   ]
  },
  {
   "cell_type": "code",
   "execution_count": 40,
   "id": "0e5074dd",
   "metadata": {},
   "outputs": [
    {
     "data": {
      "text/plain": [
       "['a', 'b', 'c', 'd']"
      ]
     },
     "execution_count": 40,
     "metadata": {},
     "output_type": "execute_result"
    }
   ],
   "source": [
    "'a b c d'.split(' ', 100)"
   ]
  },
  {
   "cell_type": "markdown",
   "id": "9e553bf3",
   "metadata": {},
   "source": [
    "## 判断 String 是否相等"
   ]
  },
  {
   "cell_type": "code",
   "execution_count": 41,
   "id": "3815b5d8",
   "metadata": {},
   "outputs": [
    {
     "data": {
      "text/plain": [
       "True"
      ]
     },
     "execution_count": 41,
     "metadata": {},
     "output_type": "execute_result"
    }
   ],
   "source": [
    "'a' == 'a'"
   ]
  },
  {
   "cell_type": "code",
   "execution_count": 42,
   "id": "9ef74bd2",
   "metadata": {},
   "outputs": [
    {
     "data": {
      "text/plain": [
       "False"
      ]
     },
     "execution_count": 42,
     "metadata": {},
     "output_type": "execute_result"
    }
   ],
   "source": [
    "'a' != 'a'"
   ]
  },
  {
   "cell_type": "markdown",
   "id": "354428bc",
   "metadata": {},
   "source": [
    "## 判断是否包含子串"
   ]
  },
  {
   "cell_type": "code",
   "execution_count": 43,
   "id": "8224bfc6",
   "metadata": {},
   "outputs": [
    {
     "data": {
      "text/plain": [
       "True"
      ]
     },
     "execution_count": 43,
     "metadata": {},
     "output_type": "execute_result"
    }
   ],
   "source": [
    "'yuzhouwan' in 'https://yuzhouwan.com/'"
   ]
  },
  {
   "cell_type": "code",
   "execution_count": 44,
   "id": "4d23ea90",
   "metadata": {},
   "outputs": [
    {
     "data": {
      "text/plain": [
       "False"
      ]
     },
     "execution_count": 44,
     "metadata": {},
     "output_type": "execute_result"
    }
   ],
   "source": [
    "'asdf2014' in 'https://yuzhouwan.com/'"
   ]
  },
  {
   "cell_type": "code",
   "execution_count": 45,
   "id": "5250ba6a",
   "metadata": {},
   "outputs": [
    {
     "data": {
      "text/plain": [
       "True"
      ]
     },
     "execution_count": 45,
     "metadata": {},
     "output_type": "execute_result"
    }
   ],
   "source": [
    "'' in 'https://yuzhouwan.com/'"
   ]
  },
  {
   "cell_type": "code",
   "execution_count": 46,
   "id": "e4e6202c",
   "metadata": {},
   "outputs": [
    {
     "data": {
      "text/plain": [
       "True"
      ]
     },
     "execution_count": 46,
     "metadata": {},
     "output_type": "execute_result"
    }
   ],
   "source": [
    "'' in ''"
   ]
  },
  {
   "cell_type": "markdown",
   "id": "6f83166b",
   "metadata": {},
   "source": [
    "## 替换子串"
   ]
  },
  {
   "cell_type": "code",
   "execution_count": 47,
   "id": "7de7b695",
   "metadata": {},
   "outputs": [
    {
     "data": {
      "text/plain": [
       "'https://yuzhouwan.com/'"
      ]
     },
     "execution_count": 47,
     "metadata": {},
     "output_type": "execute_result"
    }
   ],
   "source": [
    "'http://yuzhouwan.com/'.replace('http', 'https')"
   ]
  },
  {
   "cell_type": "code",
   "execution_count": 48,
   "id": "1b6a416f",
   "metadata": {},
   "outputs": [
    {
     "data": {
      "text/plain": [
       "'yuzhouwan.com'"
      ]
     },
     "execution_count": 48,
     "metadata": {},
     "output_type": "execute_result"
    }
   ],
   "source": [
    "'https://yuzhouwan.com'.replace('https://', '')"
   ]
  },
  {
   "cell_type": "code",
   "execution_count": 49,
   "id": "98dca8d0",
   "metadata": {},
   "outputs": [
    {
     "data": {
      "text/plain": [
       "'https://yuzhouwan.com'"
      ]
     },
     "execution_count": 49,
     "metadata": {},
     "output_type": "execute_result"
    }
   ],
   "source": [
    "'https://yuzhouwan.com'.replace('', '')"
   ]
  },
  {
   "cell_type": "code",
   "execution_count": 50,
   "id": "32dbd7e2",
   "metadata": {},
   "outputs": [
    {
     "data": {
      "text/plain": [
       "'https://yuzhouwan.com'"
      ]
     },
     "execution_count": 50,
     "metadata": {},
     "output_type": "execute_result"
    }
   ],
   "source": [
    "' https://yuzhouwan.com '.replace(' ', '')"
   ]
  },
  {
   "cell_type": "markdown",
   "id": "260df6e2",
   "metadata": {},
   "source": [
    "## 去除首位的空白字符"
   ]
  },
  {
   "cell_type": "code",
   "execution_count": 51,
   "id": "647ac72b",
   "metadata": {},
   "outputs": [
    {
     "data": {
      "text/plain": [
       "'https://yuzhouwan.com'"
      ]
     },
     "execution_count": 51,
     "metadata": {},
     "output_type": "execute_result"
    }
   ],
   "source": [
    "' https://yuzhouwan.com '.strip()"
   ]
  },
  {
   "cell_type": "code",
   "execution_count": 52,
   "id": "ef10f7d5",
   "metadata": {},
   "outputs": [
    {
     "data": {
      "text/plain": [
       "'https://yuzhouwan.com '"
      ]
     },
     "execution_count": 52,
     "metadata": {},
     "output_type": "execute_result"
    }
   ],
   "source": [
    "' https://yuzhouwan.com '.lstrip()"
   ]
  },
  {
   "cell_type": "code",
   "execution_count": 53,
   "id": "555962b1",
   "metadata": {},
   "outputs": [
    {
     "data": {
      "text/plain": [
       "' https://yuzhouwan.com'"
      ]
     },
     "execution_count": 53,
     "metadata": {},
     "output_type": "execute_result"
    }
   ],
   "source": [
    "' https://yuzhouwan.com '.rstrip()"
   ]
  },
  {
   "cell_type": "markdown",
   "id": "fa7194b7",
   "metadata": {},
   "source": [
    "## 居中打印 String"
   ]
  },
  {
   "cell_type": "code",
   "execution_count": 54,
   "id": "abeb4a3f",
   "metadata": {},
   "outputs": [
    {
     "name": "stdout",
     "output_type": "stream",
     "text": [
      "----------------------------------------------asdf2014----------------------------------------------\n",
      "-------------------------------------------yuzhouwan.com--------------------------------------------\n"
     ]
    }
   ],
   "source": [
    "print(\"asdf2014\".center(100, '-'))\n",
    "print(\"yuzhouwan.com\".center(100, '-'))"
   ]
  }
 ],
 "metadata": {
  "kernelspec": {
   "display_name": "Python 3 (ipykernel)",
   "language": "python",
   "name": "python3"
  },
  "language_info": {
   "codemirror_mode": {
    "name": "ipython",
    "version": 3
   },
   "file_extension": ".py",
   "mimetype": "text/x-python",
   "name": "python",
   "nbconvert_exporter": "python",
   "pygments_lexer": "ipython3",
   "version": "3.9.13"
  }
 },
 "nbformat": 4,
 "nbformat_minor": 5
}
