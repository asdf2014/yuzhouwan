{
 "cells": [
  {
   "cell_type": "code",
   "execution_count": 1,
   "id": "4dbda0a1",
   "metadata": {},
   "outputs": [
    {
     "data": {
      "text/plain": [
       "{'1', '2', '3'}"
      ]
     },
     "execution_count": 1,
     "metadata": {},
     "output_type": "execute_result"
    }
   ],
   "source": [
    "{'1', '2', '3'}"
   ]
  },
  {
   "cell_type": "code",
   "execution_count": 2,
   "id": "d200cf44",
   "metadata": {},
   "outputs": [
    {
     "name": "stdout",
     "output_type": "stream",
     "text": [
      "156844085362250908\n",
      "-2550780257849425624\n",
      "-4433892665662431183\n"
     ]
    }
   ],
   "source": [
    "print(hash('1'))\n",
    "print(hash('2'))\n",
    "print(hash('3'))"
   ]
  },
  {
   "cell_type": "code",
   "execution_count": 3,
   "id": "41dde2c6",
   "metadata": {},
   "outputs": [
    {
     "name": "stdout",
     "output_type": "stream",
     "text": [
      "{'2', '3'}\n",
      "{'3'}\n",
      "set()\n",
      "{'1'}\n",
      "{'2', '1'}\n",
      "{'3', '2', '1'}\n"
     ]
    }
   ],
   "source": [
    "set1 = {'1', '2', '3'}\n",
    "set1.remove('1')\n",
    "print(set1)\n",
    "set1.remove('2')\n",
    "print(set1)\n",
    "set1.remove('3')\n",
    "print(set1)\n",
    "\n",
    "set1.add('1')\n",
    "print(set1)\n",
    "set1.add('2')\n",
    "print(set1)\n",
    "set1.add('3')\n",
    "print(set1)"
   ]
  },
  {
   "cell_type": "code",
   "execution_count": 4,
   "id": "6771b7fd",
   "metadata": {},
   "outputs": [
    {
     "data": {
      "text/plain": [
       "{'1', '2', '3'}"
      ]
     },
     "execution_count": 4,
     "metadata": {},
     "output_type": "execute_result"
    }
   ],
   "source": [
    "{'1'} | {'2'} | {'3'}"
   ]
  },
  {
   "cell_type": "code",
   "execution_count": 5,
   "id": "2f8a247d",
   "metadata": {},
   "outputs": [
    {
     "data": {
      "text/plain": [
       "{'2', '3'}"
      ]
     },
     "execution_count": 5,
     "metadata": {},
     "output_type": "execute_result"
    }
   ],
   "source": [
    "{'1', '2', '3'} & {'2', '3', '4'}"
   ]
  },
  {
   "cell_type": "code",
   "execution_count": 6,
   "id": "1c23fa94",
   "metadata": {},
   "outputs": [
    {
     "data": {
      "text/plain": [
       "{'2', '3', '4'}"
      ]
     },
     "execution_count": 6,
     "metadata": {},
     "output_type": "execute_result"
    }
   ],
   "source": [
    "{'1', '2', '3'} and {'2', '3', '4'}"
   ]
  },
  {
   "cell_type": "code",
   "execution_count": 7,
   "id": "ee4f5bc4",
   "metadata": {},
   "outputs": [
    {
     "data": {
      "text/plain": [
       "{'1', '2', '3'}"
      ]
     },
     "execution_count": 7,
     "metadata": {},
     "output_type": "execute_result"
    }
   ],
   "source": [
    "{'2', '3', '4'} and {'1', '2', '3'}"
   ]
  },
  {
   "cell_type": "code",
   "execution_count": 8,
   "id": "95846462",
   "metadata": {},
   "outputs": [
    {
     "data": {
      "text/plain": [
       "{}"
      ]
     },
     "execution_count": 8,
     "metadata": {},
     "output_type": "execute_result"
    }
   ],
   "source": [
    "{} and {'2', '3', '4'}"
   ]
  },
  {
   "cell_type": "code",
   "execution_count": 9,
   "id": "147e2b11",
   "metadata": {},
   "outputs": [
    {
     "data": {
      "text/plain": [
       "False"
      ]
     },
     "execution_count": 9,
     "metadata": {},
     "output_type": "execute_result"
    }
   ],
   "source": [
    "bool({})"
   ]
  },
  {
   "cell_type": "code",
   "execution_count": 10,
   "id": "c14bf69b",
   "metadata": {},
   "outputs": [
    {
     "data": {
      "text/plain": [
       "True"
      ]
     },
     "execution_count": 10,
     "metadata": {},
     "output_type": "execute_result"
    }
   ],
   "source": [
    "bool({'1', '2', '3'})"
   ]
  },
  {
   "cell_type": "code",
   "execution_count": 8,
   "id": "1a295140",
   "metadata": {},
   "outputs": [
    {
     "data": {
      "text/plain": [
       "140531211101792"
      ]
     },
     "execution_count": 8,
     "metadata": {},
     "output_type": "execute_result"
    }
   ],
   "source": [
    "s = {1}\n",
    "id(s.union({2}))"
   ]
  },
  {
   "cell_type": "code",
   "execution_count": 7,
   "id": "131cc304",
   "metadata": {},
   "outputs": [
    {
     "data": {
      "text/plain": [
       "140531211100224"
      ]
     },
     "execution_count": 7,
     "metadata": {},
     "output_type": "execute_result"
    }
   ],
   "source": [
    "id(s.union({3}))"
   ]
  },
  {
   "cell_type": "code",
   "execution_count": 5,
   "id": "be08993d",
   "metadata": {},
   "outputs": [
    {
     "data": {
      "text/plain": [
       "140531211100224"
      ]
     },
     "execution_count": 5,
     "metadata": {},
     "output_type": "execute_result"
    }
   ],
   "source": [
    "id(s.union({2, 3}))"
   ]
  },
  {
   "cell_type": "code",
   "execution_count": 6,
   "id": "1ac30b4d",
   "metadata": {},
   "outputs": [
    {
     "data": {
      "text/plain": [
       "140531211100224"
      ]
     },
     "execution_count": 6,
     "metadata": {},
     "output_type": "execute_result"
    }
   ],
   "source": [
    "id(s.union({2, 4}))"
   ]
  },
  {
   "cell_type": "code",
   "execution_count": 9,
   "id": "2e544053",
   "metadata": {
    "scrolled": true
   },
   "outputs": [
    {
     "name": "stdout",
     "output_type": "stream",
     "text": [
      "140531211101792\n",
      "140531211100224\n"
     ]
    }
   ],
   "source": [
    "s2 = s.union({2, 3})\n",
    "s3 = s.union({2, 4})\n",
    "print(id(s2))\n",
    "print(id(s3))\n",
    "\n",
    "# TODO:\n",
    "# 使用 set 的 union 函数之后，再次时候 id 函数\n",
    "# 如果是将 union 函数的结果保存在变量中，那么 id 计算出来的 hash 值是不一样的\n",
    "# 但是，如果不额外使用变量进行存储，直接采用 id(set1.union(set2)) 的方式计算，得出来的 hash 值是一样的"
   ]
  },
  {
   "cell_type": "markdown",
   "id": "6df64537",
   "metadata": {},
   "source": [
    "- [Python set doc](https://docs.python.org/3/library/stdtypes.html?highlight=set#set)"
   ]
  }
 ],
 "metadata": {
  "kernelspec": {
   "display_name": "Python 3 (ipykernel)",
   "language": "python",
   "name": "python3"
  },
  "language_info": {
   "codemirror_mode": {
    "name": "ipython",
    "version": 3
   },
   "file_extension": ".py",
   "mimetype": "text/x-python",
   "name": "python",
   "nbconvert_exporter": "python",
   "pygments_lexer": "ipython3",
   "version": "3.9.12"
  }
 },
 "nbformat": 4,
 "nbformat_minor": 5
}
