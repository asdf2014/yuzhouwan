{
 "cells": [
  {
   "cell_type": "markdown",
   "id": "7b1b010c",
   "metadata": {},
   "source": [
    "## Python Collection"
   ]
  },
  {
   "cell_type": "markdown",
   "id": "97e0e90d",
   "metadata": {},
   "source": [
    "### list"
   ]
  },
  {
   "cell_type": "markdown",
   "id": "b48ebef4",
   "metadata": {},
   "source": [
    "#### 基本用法"
   ]
  },
  {
   "cell_type": "code",
   "execution_count": 1,
   "id": "6411fbb3",
   "metadata": {
    "scrolled": false
   },
   "outputs": [
    {
     "name": "stdout",
     "output_type": "stream",
     "text": [
      "[1, 2, 3]\n"
     ]
    }
   ],
   "source": [
    "l = [1, 2, 3]\n",
    "print(l)"
   ]
  },
  {
   "cell_type": "code",
   "execution_count": 2,
   "id": "d998a8cd",
   "metadata": {
    "scrolled": true
   },
   "outputs": [
    {
     "name": "stdout",
     "output_type": "stream",
     "text": [
      "1\n",
      "2\n",
      "3\n"
     ]
    }
   ],
   "source": [
    "for _ in l:\n",
    "    print(_)"
   ]
  },
  {
   "cell_type": "code",
   "execution_count": 3,
   "id": "a2a779d5",
   "metadata": {},
   "outputs": [
    {
     "data": {
      "text/plain": [
       "3"
      ]
     },
     "execution_count": 3,
     "metadata": {},
     "output_type": "execute_result"
    }
   ],
   "source": [
    "len(l)"
   ]
  },
  {
   "cell_type": "code",
   "execution_count": 4,
   "id": "8a48eb69",
   "metadata": {
    "scrolled": true
   },
   "outputs": [
    {
     "data": {
      "text/plain": [
       "list"
      ]
     },
     "execution_count": 4,
     "metadata": {},
     "output_type": "execute_result"
    }
   ],
   "source": [
    "type(l)"
   ]
  },
  {
   "cell_type": "markdown",
   "id": "d4a473cc",
   "metadata": {},
   "source": [
    "#### 排序 list"
   ]
  },
  {
   "cell_type": "code",
   "execution_count": 55,
   "id": "204c675a",
   "metadata": {},
   "outputs": [
    {
     "data": {
      "text/plain": [
       "[1, 2, 3]"
      ]
     },
     "execution_count": 55,
     "metadata": {},
     "output_type": "execute_result"
    }
   ],
   "source": [
    "sorted([2, 1, 3])"
   ]
  },
  {
   "cell_type": "markdown",
   "id": "a28fcd13",
   "metadata": {},
   "source": [
    "#### 增删 list 中的元素"
   ]
  },
  {
   "cell_type": "code",
   "execution_count": 5,
   "id": "a42054b1",
   "metadata": {},
   "outputs": [
    {
     "name": "stdout",
     "output_type": "stream",
     "text": [
      "[1, 2, 3, 4]\n",
      "[1, 2, 3]\n"
     ]
    }
   ],
   "source": [
    "l = [1, 2, 3]\n",
    "\n",
    "l.append(4)\n",
    "print(l)\n",
    "\n",
    "l.remove(4)\n",
    "print(l)"
   ]
  },
  {
   "cell_type": "code",
   "execution_count": 4,
   "id": "7f81cd28",
   "metadata": {
    "scrolled": true
   },
   "outputs": [
    {
     "name": "stdout",
     "output_type": "stream",
     "text": [
      "[1, 2, 3, 4, 5, 4]\n",
      "[1, 2, 3, 5, 4]\n",
      "[1, 2, 3, 5]\n",
      "4 is not exist\n"
     ]
    }
   ],
   "source": [
    "l = [1, 2, 3]\n",
    "\n",
    "l.append(4)\n",
    "l.append(5)\n",
    "l.append(4)\n",
    "print(l)\n",
    "\n",
    "# 移除第一个等于 4 的元素\n",
    "l.remove(4)\n",
    "print(l)\n",
    "\n",
    "l.remove(4)\n",
    "print(l)\n",
    "\n",
    "if 4 in l:\n",
    "    l.remove(4) # 如果 4 这个元素不存在于 list 中，会报错\n",
    "    print(l)\n",
    "else:\n",
    "    print('4 is not exist')"
   ]
  },
  {
   "cell_type": "code",
   "execution_count": 7,
   "id": "c708844b",
   "metadata": {
    "scrolled": true
   },
   "outputs": [
    {
     "name": "stdout",
     "output_type": "stream",
     "text": [
      "[]\n"
     ]
    }
   ],
   "source": [
    "l = [1, 2, 3]\n",
    "l.clear()\n",
    "print(l)"
   ]
  },
  {
   "cell_type": "code",
   "execution_count": 7,
   "id": "18d58e3a",
   "metadata": {
    "scrolled": true
   },
   "outputs": [
    {
     "name": "stdout",
     "output_type": "stream",
     "text": [
      "[1, 2, 4, 3]\n",
      "[1, 2, 4, 3]\n",
      "[1, 2, 3, 4]\n",
      "[1, 2, 3, 4]\n"
     ]
    }
   ],
   "source": [
    "# 插入新元素到指定下标到位置\n",
    "l = [1, 2, 3]\n",
    "l.insert(2, 4)\n",
    "print(l)\n",
    "\n",
    "l = [1, 2, 3]\n",
    "l.insert(-1, 4)\n",
    "print(l)\n",
    "\n",
    "l = [1, 2, 3]\n",
    "l.insert(3, 4)\n",
    "print(l)\n",
    "\n",
    "l = [1, 2, 3]\n",
    "l.insert(4, 4) # 当下标超出了 list 的最大长度 - 1，会等价于 append，将新元素添加到 list 结尾\n",
    "print(l)"
   ]
  },
  {
   "cell_type": "markdown",
   "id": "ba80ee60",
   "metadata": {},
   "source": [
    "#### 合并 list"
   ]
  },
  {
   "cell_type": "code",
   "execution_count": 9,
   "id": "3ca56836",
   "metadata": {},
   "outputs": [
    {
     "name": "stdout",
     "output_type": "stream",
     "text": [
      "[1, 2, 3, 4, 5, 6]\n"
     ]
    }
   ],
   "source": [
    "l = [1, 2, 3]\n",
    "l2 = [4, 5, 6]\n",
    "print(l + l2)"
   ]
  },
  {
   "cell_type": "code",
   "execution_count": 8,
   "id": "004dd3d5",
   "metadata": {
    "scrolled": true
   },
   "outputs": [
    {
     "name": "stdout",
     "output_type": "stream",
     "text": [
      "[1, 2, 3, 1, 2, 3]\n"
     ]
    }
   ],
   "source": [
    "l = [1, 2, 3]\n",
    "l += l\n",
    "# 等价于 l = l + l\n",
    "print(l)"
   ]
  },
  {
   "cell_type": "code",
   "execution_count": 11,
   "id": "6a7159e7",
   "metadata": {},
   "outputs": [
    {
     "name": "stdout",
     "output_type": "stream",
     "text": [
      "[1, 2, 3, 1, 2, 3, 1, 2, 3]\n"
     ]
    }
   ],
   "source": [
    "l = [1, 2, 3]\n",
    "l *= 3\n",
    "print(l)"
   ]
  },
  {
   "cell_type": "markdown",
   "id": "be28aeaf",
   "metadata": {},
   "source": [
    "#### 单层 list"
   ]
  },
  {
   "cell_type": "code",
   "execution_count": 11,
   "id": "fa5b1f56",
   "metadata": {
    "scrolled": true
   },
   "outputs": [
    {
     "data": {
      "text/plain": [
       "[0, 1, 2]"
      ]
     },
     "execution_count": 11,
     "metadata": {},
     "output_type": "execute_result"
    }
   ],
   "source": [
    "[ _ for _ in range(3)]"
   ]
  },
  {
   "cell_type": "markdown",
   "id": "0c1a63fe",
   "metadata": {},
   "source": [
    "#### 双层 list"
   ]
  },
  {
   "cell_type": "code",
   "execution_count": 13,
   "id": "58927461",
   "metadata": {},
   "outputs": [
    {
     "data": {
      "text/plain": [
       "[['宇', '宙', '湾'], ['宇', '宙', '湾']]"
      ]
     },
     "execution_count": 13,
     "metadata": {},
     "output_type": "execute_result"
    }
   ],
   "source": [
    "[[_ for _ in \"宇宙湾\"] for _ in range(2)]"
   ]
  },
  {
   "cell_type": "code",
   "execution_count": 24,
   "id": "ddf3bdba",
   "metadata": {},
   "outputs": [
    {
     "name": "stdout",
     "output_type": "stream",
     "text": [
      "宇\n",
      "宙\n",
      "湾\n"
     ]
    }
   ],
   "source": [
    "for _ in \"宇宙湾\":\n",
    "    print(_)"
   ]
  },
  {
   "cell_type": "code",
   "execution_count": 26,
   "id": "940682ec",
   "metadata": {},
   "outputs": [
    {
     "data": {
      "text/plain": [
       "['宇', '宙', '湾']"
      ]
     },
     "execution_count": 26,
     "metadata": {},
     "output_type": "execute_result"
    }
   ],
   "source": [
    "[_ for _ in \"宇宙湾\"]"
   ]
  },
  {
   "cell_type": "code",
   "execution_count": 28,
   "id": "5162668a",
   "metadata": {},
   "outputs": [
    {
     "data": {
      "text/plain": [
       "[['宇', '宙', '湾']]"
      ]
     },
     "execution_count": 28,
     "metadata": {},
     "output_type": "execute_result"
    }
   ],
   "source": [
    "[[_ for _ in \"宇宙湾\"]] # 3 * 1 矩阵"
   ]
  },
  {
   "cell_type": "code",
   "execution_count": 29,
   "id": "a11e40fb",
   "metadata": {},
   "outputs": [
    {
     "data": {
      "text/plain": [
       "[['宇', '宙', '湾'], ['宇', '宙', '湾']]"
      ]
     },
     "execution_count": 29,
     "metadata": {},
     "output_type": "execute_result"
    }
   ],
   "source": [
    "[[_ for _ in \"宇宙湾\"] for _ in range(2)] # 3 * 2 矩阵"
   ]
  },
  {
   "cell_type": "markdown",
   "id": "86091f06",
   "metadata": {},
   "source": [
    "#### Join 双层 list"
   ]
  },
  {
   "cell_type": "code",
   "execution_count": 16,
   "id": "ef9c7f14",
   "metadata": {},
   "outputs": [
    {
     "data": {
      "text/plain": [
       "'y.u.z.h.o.u.w.a.n.c.o.m'"
      ]
     },
     "execution_count": 16,
     "metadata": {},
     "output_type": "execute_result"
    }
   ],
   "source": [
    "'.'.join(str(x) for inner_arr in ['yuzhouwan', 'com'] for x in inner_arr)"
   ]
  },
  {
   "cell_type": "code",
   "execution_count": 30,
   "id": "dcfae636",
   "metadata": {},
   "outputs": [
    {
     "data": {
      "text/plain": [
       "'y.u.z.h.o.u.w.a.n.c.o.m'"
      ]
     },
     "execution_count": 30,
     "metadata": {},
     "output_type": "execute_result"
    }
   ],
   "source": [
    "arr = ['yuzhouwan', 'com']\n",
    "all_chars = []\n",
    "for _ in arr:\n",
    "#     print(_)\n",
    "#     print(type(_))\n",
    "    for x in _:\n",
    "#         print(x)\n",
    "        all_chars.append(x)\n",
    "# print(all_chars)\n",
    "'.'.join(all_chars)"
   ]
  },
  {
   "cell_type": "markdown",
   "id": "5f3437f0",
   "metadata": {},
   "source": [
    "### set"
   ]
  },
  {
   "cell_type": "markdown",
   "id": "2d7b2260",
   "metadata": {},
   "source": [
    "#### 基本用法"
   ]
  },
  {
   "cell_type": "code",
   "execution_count": 15,
   "id": "c6186ab7",
   "metadata": {},
   "outputs": [
    {
     "name": "stdout",
     "output_type": "stream",
     "text": [
      "{1, 2, 3}\n"
     ]
    }
   ],
   "source": [
    "s = {1, 2, 3}\n",
    "print(s)"
   ]
  },
  {
   "cell_type": "code",
   "execution_count": 16,
   "id": "c247c4e4",
   "metadata": {
    "scrolled": true
   },
   "outputs": [
    {
     "name": "stdout",
     "output_type": "stream",
     "text": [
      "1\n",
      "2\n",
      "3\n"
     ]
    }
   ],
   "source": [
    "for _ in s:\n",
    "    print(_)"
   ]
  },
  {
   "cell_type": "code",
   "execution_count": 17,
   "id": "0d5c2cb4",
   "metadata": {
    "scrolled": true
   },
   "outputs": [
    {
     "data": {
      "text/plain": [
       "3"
      ]
     },
     "execution_count": 17,
     "metadata": {},
     "output_type": "execute_result"
    }
   ],
   "source": [
    "len(s)"
   ]
  },
  {
   "cell_type": "code",
   "execution_count": 18,
   "id": "60b4bc4d",
   "metadata": {
    "scrolled": true
   },
   "outputs": [
    {
     "data": {
      "text/plain": [
       "set"
      ]
     },
     "execution_count": 18,
     "metadata": {},
     "output_type": "execute_result"
    }
   ],
   "source": [
    "type(s)"
   ]
  },
  {
   "cell_type": "markdown",
   "id": "f37246c6",
   "metadata": {},
   "source": [
    "#### 排序 set"
   ]
  },
  {
   "cell_type": "code",
   "execution_count": 56,
   "id": "a699bd5c",
   "metadata": {},
   "outputs": [
    {
     "data": {
      "text/plain": [
       "[1, 2, 3]"
      ]
     },
     "execution_count": 56,
     "metadata": {},
     "output_type": "execute_result"
    }
   ],
   "source": [
    "sorted({2, 1, 3})"
   ]
  },
  {
   "cell_type": "markdown",
   "id": "481eeae3",
   "metadata": {},
   "source": [
    "#### 增删 set 中的元素"
   ]
  },
  {
   "cell_type": "code",
   "execution_count": 19,
   "id": "27fa23a7",
   "metadata": {},
   "outputs": [
    {
     "name": "stdout",
     "output_type": "stream",
     "text": [
      "{1, 2, 3, 4}\n",
      "{1, 2, 3}\n"
     ]
    }
   ],
   "source": [
    "s = {1, 2, 3}\n",
    "\n",
    "s.add(4)\n",
    "print(s)\n",
    "\n",
    "s.remove(4)\n",
    "print(s)"
   ]
  },
  {
   "cell_type": "code",
   "execution_count": 20,
   "id": "6573f584",
   "metadata": {},
   "outputs": [
    {
     "name": "stdout",
     "output_type": "stream",
     "text": [
      "{1, 2, 3, 4}\n",
      "{1, 2, 3}\n"
     ]
    }
   ],
   "source": [
    "s = {1, 2, 3}\n",
    "\n",
    "s.add(4)\n",
    "s.add(4)\n",
    "s.add(4)\n",
    "print(s)\n",
    "\n",
    "s.remove(4)\n",
    "print(s)"
   ]
  },
  {
   "cell_type": "code",
   "execution_count": 21,
   "id": "5cb5aa94",
   "metadata": {},
   "outputs": [
    {
     "name": "stdout",
     "output_type": "stream",
     "text": [
      "set()\n"
     ]
    }
   ],
   "source": [
    "s = {1, 2, 3}\n",
    "s.clear()\n",
    "print(s)"
   ]
  },
  {
   "cell_type": "code",
   "execution_count": 1,
   "id": "4c542767",
   "metadata": {
    "scrolled": true
   },
   "outputs": [
    {
     "ename": "AttributeError",
     "evalue": "'set' object has no attribute 'insert'",
     "output_type": "error",
     "traceback": [
      "\u001b[0;31m---------------------------------------------------------------------------\u001b[0m",
      "\u001b[0;31mAttributeError\u001b[0m                            Traceback (most recent call last)",
      "Cell \u001b[0;32mIn[1], line 2\u001b[0m\n\u001b[1;32m      1\u001b[0m s \u001b[38;5;241m=\u001b[39m {\u001b[38;5;241m1\u001b[39m, \u001b[38;5;241m2\u001b[39m, \u001b[38;5;241m3\u001b[39m}\n\u001b[0;32m----> 2\u001b[0m \u001b[43ms\u001b[49m\u001b[38;5;241;43m.\u001b[39;49m\u001b[43minsert\u001b[49m(\u001b[38;5;241m2\u001b[39m, \u001b[38;5;241m4\u001b[39m)\n\u001b[1;32m      3\u001b[0m \u001b[38;5;28mprint\u001b[39m(s)\n",
      "\u001b[0;31mAttributeError\u001b[0m: 'set' object has no attribute 'insert'"
     ]
    }
   ],
   "source": [
    "s = {1, 2, 3}\n",
    "s.insert(2, 4)\n",
    "print(s)"
   ]
  },
  {
   "cell_type": "markdown",
   "id": "6425185b",
   "metadata": {},
   "source": [
    "#### set 的对称差 & 并集 & 交集"
   ]
  },
  {
   "cell_type": "code",
   "execution_count": 23,
   "id": "dd141a81",
   "metadata": {},
   "outputs": [
    {
     "name": "stdout",
     "output_type": "stream",
     "text": [
      "{1, 2, 3, 4, 5, 6}\n",
      "{1, 2, 3, 4, 5, 6}\n",
      "set()\n"
     ]
    }
   ],
   "source": [
    "s = {1, 2, 3}\n",
    "s2 = {4, 5, 6}\n",
    "\n",
    "# 对称差，返回两个 set 中不共同的元素\n",
    "print(s ^ s2)\n",
    "# 并集，返回两个 set 中所有的元素\n",
    "print(s | s2)\n",
    "# 交集，返回两个 set 中共同的元素\n",
    "print(s & s2)"
   ]
  },
  {
   "cell_type": "code",
   "execution_count": 24,
   "id": "326d351e",
   "metadata": {},
   "outputs": [
    {
     "name": "stdout",
     "output_type": "stream",
     "text": [
      "{1, 2, 4, 5}\n",
      "{1, 2, 3, 4, 5}\n",
      "{3}\n"
     ]
    }
   ],
   "source": [
    "s = {1, 2, 3}\n",
    "s2 = {3, 4, 5}\n",
    "\n",
    "# 对称差，返回两个 set 中不共同的元素\n",
    "print(s ^ s2)\n",
    "# 并集，返回两个 set 中所有的元素\n",
    "print(s | s2)\n",
    "# 交集，返回两个 set 中共同的元素\n",
    "print(s & s2)"
   ]
  },
  {
   "cell_type": "markdown",
   "id": "c408366c",
   "metadata": {},
   "source": [
    "### tuple"
   ]
  },
  {
   "cell_type": "markdown",
   "id": "e457f2c0",
   "metadata": {},
   "source": [
    "#### 基本用法"
   ]
  },
  {
   "cell_type": "code",
   "execution_count": 25,
   "id": "6ec56c5c",
   "metadata": {},
   "outputs": [
    {
     "name": "stdout",
     "output_type": "stream",
     "text": [
      "(1, 2, 3)\n"
     ]
    }
   ],
   "source": [
    "t = (1, 2, 3)\n",
    "print(t)"
   ]
  },
  {
   "cell_type": "code",
   "execution_count": 26,
   "id": "72039158",
   "metadata": {
    "scrolled": true
   },
   "outputs": [
    {
     "name": "stdout",
     "output_type": "stream",
     "text": [
      "1\n",
      "2\n",
      "3\n"
     ]
    }
   ],
   "source": [
    "for _ in t:\n",
    "    print(_)"
   ]
  },
  {
   "cell_type": "code",
   "execution_count": 27,
   "id": "40083f3d",
   "metadata": {},
   "outputs": [
    {
     "data": {
      "text/plain": [
       "3"
      ]
     },
     "execution_count": 27,
     "metadata": {},
     "output_type": "execute_result"
    }
   ],
   "source": [
    "len(t)"
   ]
  },
  {
   "cell_type": "code",
   "execution_count": 28,
   "id": "655894cf",
   "metadata": {
    "scrolled": true
   },
   "outputs": [
    {
     "data": {
      "text/plain": [
       "tuple"
      ]
     },
     "execution_count": 28,
     "metadata": {},
     "output_type": "execute_result"
    }
   ],
   "source": [
    "type(t)"
   ]
  },
  {
   "cell_type": "markdown",
   "id": "50e49420",
   "metadata": {},
   "source": [
    "#### 排序 tuple"
   ]
  },
  {
   "cell_type": "code",
   "execution_count": 58,
   "id": "0d971c00",
   "metadata": {},
   "outputs": [
    {
     "data": {
      "text/plain": [
       "[1, 2, 3]"
      ]
     },
     "execution_count": 58,
     "metadata": {},
     "output_type": "execute_result"
    }
   ],
   "source": [
    "sorted((2, 1, 3))"
   ]
  },
  {
   "cell_type": "markdown",
   "id": "599dca0b",
   "metadata": {},
   "source": [
    "#### 增删 tuple 中的元素"
   ]
  },
  {
   "cell_type": "code",
   "execution_count": 2,
   "id": "178c5c49",
   "metadata": {},
   "outputs": [
    {
     "ename": "AttributeError",
     "evalue": "'tuple' object has no attribute 'add'",
     "output_type": "error",
     "traceback": [
      "\u001b[0;31m---------------------------------------------------------------------------\u001b[0m",
      "\u001b[0;31mAttributeError\u001b[0m                            Traceback (most recent call last)",
      "Cell \u001b[0;32mIn[2], line 2\u001b[0m\n\u001b[1;32m      1\u001b[0m t \u001b[38;5;241m=\u001b[39m (\u001b[38;5;241m1\u001b[39m, \u001b[38;5;241m2\u001b[39m, \u001b[38;5;241m3\u001b[39m)\n\u001b[0;32m----> 2\u001b[0m \u001b[43mt\u001b[49m\u001b[38;5;241;43m.\u001b[39;49m\u001b[43madd\u001b[49m(\u001b[38;5;241m4\u001b[39m)\n",
      "\u001b[0;31mAttributeError\u001b[0m: 'tuple' object has no attribute 'add'"
     ]
    }
   ],
   "source": [
    "t = (1, 2, 3)\n",
    "# t.add(4)"
   ]
  },
  {
   "cell_type": "code",
   "execution_count": 3,
   "id": "2eae6916",
   "metadata": {
    "scrolled": true
   },
   "outputs": [
    {
     "ename": "AttributeError",
     "evalue": "'tuple' object has no attribute 'remove'",
     "output_type": "error",
     "traceback": [
      "\u001b[0;31m---------------------------------------------------------------------------\u001b[0m",
      "\u001b[0;31mAttributeError\u001b[0m                            Traceback (most recent call last)",
      "Cell \u001b[0;32mIn[3], line 2\u001b[0m\n\u001b[1;32m      1\u001b[0m t \u001b[38;5;241m=\u001b[39m (\u001b[38;5;241m1\u001b[39m, \u001b[38;5;241m2\u001b[39m, \u001b[38;5;241m3\u001b[39m)\n\u001b[0;32m----> 2\u001b[0m \u001b[43mt\u001b[49m\u001b[38;5;241;43m.\u001b[39;49m\u001b[43mremove\u001b[49m(\u001b[38;5;241m3\u001b[39m)\n",
      "\u001b[0;31mAttributeError\u001b[0m: 'tuple' object has no attribute 'remove'"
     ]
    }
   ],
   "source": [
    "t = (1, 2, 3)\n",
    "# t.remove(3)"
   ]
  },
  {
   "cell_type": "markdown",
   "id": "beb9ba47",
   "metadata": {},
   "source": [
    "#### 合并 tuple"
   ]
  },
  {
   "cell_type": "code",
   "execution_count": 31,
   "id": "cbadf5cb",
   "metadata": {},
   "outputs": [
    {
     "name": "stdout",
     "output_type": "stream",
     "text": [
      "(1, 2, 3, 3, 4, 5)\n"
     ]
    }
   ],
   "source": [
    "t = (1, 2, 3)\n",
    "t2 = (3, 4, 5)\n",
    "print(t + t2)"
   ]
  },
  {
   "cell_type": "code",
   "execution_count": 4,
   "id": "4642fe4e",
   "metadata": {},
   "outputs": [
    {
     "ename": "TypeError",
     "evalue": "unsupported operand type(s) for -: 'tuple' and 'tuple'",
     "output_type": "error",
     "traceback": [
      "\u001b[0;31m---------------------------------------------------------------------------\u001b[0m",
      "\u001b[0;31mTypeError\u001b[0m                                 Traceback (most recent call last)",
      "Cell \u001b[0;32mIn[4], line 3\u001b[0m\n\u001b[1;32m      1\u001b[0m t \u001b[38;5;241m=\u001b[39m (\u001b[38;5;241m1\u001b[39m, \u001b[38;5;241m2\u001b[39m, \u001b[38;5;241m3\u001b[39m)\n\u001b[1;32m      2\u001b[0m t2 \u001b[38;5;241m=\u001b[39m (\u001b[38;5;241m3\u001b[39m, \u001b[38;5;241m4\u001b[39m, \u001b[38;5;241m5\u001b[39m)\n\u001b[0;32m----> 3\u001b[0m \u001b[38;5;28mprint\u001b[39m(\u001b[43mt\u001b[49m\u001b[43m \u001b[49m\u001b[38;5;241;43m-\u001b[39;49m\u001b[43m \u001b[49m\u001b[43mt2\u001b[49m)\n",
      "\u001b[0;31mTypeError\u001b[0m: unsupported operand type(s) for -: 'tuple' and 'tuple'"
     ]
    }
   ],
   "source": [
    "t = (1, 2, 3)\n",
    "t2 = (3, 4, 5)\n",
    "# print(t - t2)"
   ]
  },
  {
   "cell_type": "code",
   "execution_count": 5,
   "id": "ce144a6a",
   "metadata": {},
   "outputs": [
    {
     "ename": "TypeError",
     "evalue": "unsupported operand type(s) for -: 'tuple' and 'int'",
     "output_type": "error",
     "traceback": [
      "\u001b[0;31m---------------------------------------------------------------------------\u001b[0m",
      "\u001b[0;31mTypeError\u001b[0m                                 Traceback (most recent call last)",
      "Cell \u001b[0;32mIn[5], line 2\u001b[0m\n\u001b[1;32m      1\u001b[0m t \u001b[38;5;241m=\u001b[39m (\u001b[38;5;241m1\u001b[39m, \u001b[38;5;241m2\u001b[39m, \u001b[38;5;241m3\u001b[39m)\n\u001b[0;32m----> 2\u001b[0m \u001b[38;5;28mprint\u001b[39m(\u001b[43mt\u001b[49m\u001b[43m \u001b[49m\u001b[38;5;241;43m-\u001b[39;49m\u001b[43m \u001b[49m\u001b[38;5;241;43m2\u001b[39;49m)\n",
      "\u001b[0;31mTypeError\u001b[0m: unsupported operand type(s) for -: 'tuple' and 'int'"
     ]
    }
   ],
   "source": [
    "t = (1, 2, 3)\n",
    "print(t - 2)"
   ]
  },
  {
   "cell_type": "code",
   "execution_count": 34,
   "id": "e0705084",
   "metadata": {},
   "outputs": [
    {
     "name": "stdout",
     "output_type": "stream",
     "text": [
      "(1, 3)\n"
     ]
    }
   ],
   "source": [
    "t = (1, 2, 3)\n",
    "t = t[:1] + t[2:]\n",
    "print(t)"
   ]
  },
  {
   "cell_type": "markdown",
   "id": "0e18ab9a",
   "metadata": {},
   "source": [
    "### dict"
   ]
  },
  {
   "cell_type": "markdown",
   "id": "97c600f9",
   "metadata": {},
   "source": [
    "#### 基本用法"
   ]
  },
  {
   "cell_type": "code",
   "execution_count": 35,
   "id": "022dd0ad",
   "metadata": {
    "scrolled": true
   },
   "outputs": [
    {
     "name": "stdout",
     "output_type": "stream",
     "text": [
      "{'github': 'asdf2014', 'blog': 'yuzhouwan.com', 'name': '宇宙湾'}\n"
     ]
    }
   ],
   "source": [
    "d = dict(github='asdf2014', blog='yuzhouwan.com', name='宇宙湾')\n",
    "print(d)"
   ]
  },
  {
   "cell_type": "code",
   "execution_count": 36,
   "id": "68162d0f",
   "metadata": {
    "scrolled": true
   },
   "outputs": [
    {
     "name": "stdout",
     "output_type": "stream",
     "text": [
      "github \t asdf2014\n",
      "blog \t yuzhouwan.com\n",
      "name \t 宇宙湾\n"
     ]
    }
   ],
   "source": [
    "for _ in d:\n",
    "    print(_, '\\t', d[_])"
   ]
  },
  {
   "cell_type": "code",
   "execution_count": 37,
   "id": "478a0cb6",
   "metadata": {},
   "outputs": [
    {
     "name": "stdout",
     "output_type": "stream",
     "text": [
      "github\n",
      "blog\n",
      "name\n"
     ]
    }
   ],
   "source": [
    "for _ in d.keys():\n",
    "    print(_)"
   ]
  },
  {
   "cell_type": "code",
   "execution_count": 38,
   "id": "c40908b0",
   "metadata": {},
   "outputs": [
    {
     "name": "stdout",
     "output_type": "stream",
     "text": [
      "asdf2014\n",
      "yuzhouwan.com\n",
      "宇宙湾\n"
     ]
    }
   ],
   "source": [
    "for _ in d.values():\n",
    "    print(_)"
   ]
  },
  {
   "cell_type": "code",
   "execution_count": 39,
   "id": "7838ff5c",
   "metadata": {},
   "outputs": [
    {
     "data": {
      "text/plain": [
       "3"
      ]
     },
     "execution_count": 39,
     "metadata": {},
     "output_type": "execute_result"
    }
   ],
   "source": [
    "len(d)"
   ]
  },
  {
   "cell_type": "code",
   "execution_count": 40,
   "id": "ac1ecbd3",
   "metadata": {
    "scrolled": false
   },
   "outputs": [
    {
     "data": {
      "text/plain": [
       "dict"
      ]
     },
     "execution_count": 40,
     "metadata": {},
     "output_type": "execute_result"
    }
   ],
   "source": [
    "type(d)"
   ]
  },
  {
   "cell_type": "markdown",
   "id": "4c5bea32",
   "metadata": {},
   "source": [
    "#### 排序 dict"
   ]
  },
  {
   "cell_type": "code",
   "execution_count": 69,
   "id": "989d6bb6",
   "metadata": {},
   "outputs": [
    {
     "name": "stdout",
     "output_type": "stream",
     "text": [
      "['a', 'b', 'c']\n"
     ]
    }
   ],
   "source": [
    "d = {\"b\": 2, \"a\": 1, \"c\": 3}\n",
    "print(sorted(d))"
   ]
  },
  {
   "cell_type": "code",
   "execution_count": 83,
   "id": "f337e955",
   "metadata": {
    "scrolled": true
   },
   "outputs": [
    {
     "name": "stdout",
     "output_type": "stream",
     "text": [
      "[('a', 3), ('b', 2), ('c', 1)]\n",
      "[('c', 1), ('b', 2), ('a', 3)]\n"
     ]
    }
   ],
   "source": [
    "d = {\"b\": 2, \"a\": 3, \"c\": 1}\n",
    "\n",
    "# 按照 key 排序\n",
    "print(sorted(d.items(), key=lambda _: _[0]))\n",
    "# 按照 value 排序\n",
    "print(sorted(d.items(), key=lambda _: _[1]))"
   ]
  },
  {
   "cell_type": "code",
   "execution_count": 11,
   "id": "9cecc5cd",
   "metadata": {},
   "outputs": [
    {
     "name": "stdout",
     "output_type": "stream",
     "text": [
      "dict_items([('b', 2), ('a', 3), ('c', 1)])\n",
      "b 2\n",
      "a 3\n",
      "c 1\n",
      "{'b': 2, 'c': 1}\n"
     ]
    }
   ],
   "source": [
    "d = {\"b\": 2, \"a\": 3, \"c\": 1}\n",
    "print(d.items())\n",
    "\n",
    "# 按照 value 删除\n",
    "copy_d = {}\n",
    "for k, v in d.items():\n",
    "    print(k, v)\n",
    "    if v != 3:\n",
    "        copy_d[k] = v\n",
    "print(copy_d)"
   ]
  },
  {
   "cell_type": "code",
   "execution_count": 8,
   "id": "47de6d31",
   "metadata": {},
   "outputs": [
    {
     "name": "stdout",
     "output_type": "stream",
     "text": [
      "[('a', 3), ('b', 2), ('c', 1)]\n",
      "[('c', 1), ('b', 2), ('a', 3)]\n"
     ]
    }
   ],
   "source": [
    "d = {\"b\": 2, \"a\": 3, \"c\": 1}\n",
    "\n",
    "# 按照 key 排序\n",
    "print(sorted(d.items(), key=lambda _: _[-2]))\n",
    "# 按照 value 排序\n",
    "print(sorted(d.items(), key=lambda _: _[-1]))"
   ]
  },
  {
   "cell_type": "code",
   "execution_count": 82,
   "id": "ee284ec0",
   "metadata": {},
   "outputs": [
    {
     "name": "stdout",
     "output_type": "stream",
     "text": [
      "[('c', 1), ('b', 2), ('a', 3)]\n",
      "[('a', 3), ('b', 2), ('c', 1)]\n"
     ]
    }
   ],
   "source": [
    "d = {\"b\": 2, \"a\": 3, \"c\": 1}\n",
    "\n",
    "# 按照 key 倒序排序\n",
    "print(sorted(d.items(), key=lambda _: _[0], reverse=True))\n",
    "# 按照 value 倒序排序\n",
    "print(sorted(d.items(), key=lambda _: _[1], reverse=True))"
   ]
  },
  {
   "cell_type": "markdown",
   "id": "3d4a32ba",
   "metadata": {},
   "source": [
    "#### 增删 map 元素"
   ]
  },
  {
   "cell_type": "code",
   "execution_count": 17,
   "id": "5a1273cd",
   "metadata": {},
   "outputs": [
    {
     "name": "stdout",
     "output_type": "stream",
     "text": [
      "{'github': 'asdf2014', 'blog': 'yuzhouwan.com', 'name': '宇宙湾', 1: 1}\n",
      "{'github': 'asdf2014', 'blog': 'https://yuzhouwan.com', 'name': '宇宙湾', 1: 1}\n",
      "{'github': 'asdf2014', 'blog': None, 'name': '宇宙湾', 1: 1}\n",
      "{'github': 'asdf2014', 'blog': {'prefix': 'https', 'domain': 'yuzhouwan.com'}, 'name': '宇宙湾', 1: 1}\n",
      "{'github': 'asdf2014', 'blog': ['https', 'yuzhouwan.com'], 'name': '宇宙湾', 1: 1}\n"
     ]
    }
   ],
   "source": [
    "d = dict(github='asdf2014', blog='yuzhouwan.com', name='宇宙湾')\n",
    "d[1] = 1\n",
    "print(d)\n",
    "\n",
    "d['blog'] = 'https://yuzhouwan.com'\n",
    "print(d)\n",
    "\n",
    "d['blog'] = None\n",
    "print(d)\n",
    "\n",
    "d['blog'] = dict(prefix='https', domain='yuzhouwan.com')\n",
    "print(d)\n",
    "\n",
    "# ERROR: {'github': 'asdf2014', 'blog': 'https', 'yuzhouwan.com', 'name': '宇宙湾', 1: 1}\n",
    "d['blog'] = ['https', 'yuzhouwan.com']\n",
    "print(d)"
   ]
  },
  {
   "cell_type": "code",
   "execution_count": 10,
   "id": "66975051",
   "metadata": {
    "scrolled": true
   },
   "outputs": [
    {
     "name": "stdout",
     "output_type": "stream",
     "text": [
      "{'github': 'asdf2014', 'name': '宇宙湾'}\n",
      "blog dose not exist\n",
      "{'github': 'asdf2014', 'name': '宇宙湾'}\n",
      "asdf2014\n",
      "{'github': 'asdf2014', 'blog': 'asdf2014', 'name': '宇宙湾'}\n"
     ]
    }
   ],
   "source": [
    "d = dict(github='asdf2014', blog='yuzhouwan.com', name='宇宙湾')\n",
    "del d['blog']\n",
    "print(d)\n",
    "\n",
    "if 'blog' in d:\n",
    "    del d['blog']\n",
    "    print('blog has been deleted')\n",
    "else:\n",
    "    print('blog dose not exist')\n",
    "\n",
    "print(d)\n",
    "\n",
    "print(d['github'])\n",
    "\n",
    "# d = dict(github='asdf2014', blog='asdf2014', name='宇宙湾')\n",
    "# print(d)"
   ]
  },
  {
   "cell_type": "markdown",
   "id": "96e45457",
   "metadata": {},
   "source": [
    "#### dict 的交并集"
   ]
  },
  {
   "cell_type": "code",
   "execution_count": 12,
   "id": "7ee8ce23",
   "metadata": {},
   "outputs": [
    {
     "ename": "TypeError",
     "evalue": "unsupported operand type(s) for +: 'dict' and 'dict'",
     "output_type": "error",
     "traceback": [
      "\u001b[0;31m---------------------------------------------------------------------------\u001b[0m",
      "\u001b[0;31mTypeError\u001b[0m                                 Traceback (most recent call last)",
      "Cell \u001b[0;32mIn[12], line 3\u001b[0m\n\u001b[1;32m      1\u001b[0m d \u001b[38;5;241m=\u001b[39m \u001b[38;5;28mdict\u001b[39m(github\u001b[38;5;241m=\u001b[39m\u001b[38;5;124m'\u001b[39m\u001b[38;5;124masdf2014\u001b[39m\u001b[38;5;124m'\u001b[39m, name\u001b[38;5;241m=\u001b[39m\u001b[38;5;124m'\u001b[39m\u001b[38;5;124m宇宙湾\u001b[39m\u001b[38;5;124m'\u001b[39m)\n\u001b[1;32m      2\u001b[0m d2 \u001b[38;5;241m=\u001b[39m \u001b[38;5;28mdict\u001b[39m(blog\u001b[38;5;241m=\u001b[39m\u001b[38;5;124m'\u001b[39m\u001b[38;5;124myuzhouwan.com\u001b[39m\u001b[38;5;124m'\u001b[39m)\n\u001b[0;32m----> 3\u001b[0m \u001b[38;5;28mprint\u001b[39m(\u001b[43md\u001b[49m\u001b[43m \u001b[49m\u001b[38;5;241;43m+\u001b[39;49m\u001b[43m \u001b[49m\u001b[43md2\u001b[49m)\n",
      "\u001b[0;31mTypeError\u001b[0m: unsupported operand type(s) for +: 'dict' and 'dict'"
     ]
    }
   ],
   "source": [
    "d = dict(github='asdf2014', name='宇宙湾')\n",
    "d2 = dict(blog='yuzhouwan.com')\n",
    "print(d + d2)"
   ]
  },
  {
   "cell_type": "code",
   "execution_count": 63,
   "id": "08a9cf9e",
   "metadata": {
    "scrolled": true
   },
   "outputs": [
    {
     "name": "stdout",
     "output_type": "stream",
     "text": [
      "{'github': 'asdf2014', 'name': '宇宙湾', 'blog': 'yuzhouwan.com'}\n",
      "{'github': 'asdf2014', 'name': '宇宙湾', 'blog': 'https://yuzhouwan.com'}\n"
     ]
    }
   ],
   "source": [
    "d = dict(github='asdf2014', name='宇宙湾')\n",
    "d2 = dict(blog='yuzhouwan.com')\n",
    "print(d | d2)\n",
    "\n",
    "d2 = dict(blog='https://yuzhouwan.com')\n",
    "print(d | d2)"
   ]
  },
  {
   "cell_type": "code",
   "execution_count": 19,
   "id": "351bddac",
   "metadata": {
    "scrolled": true
   },
   "outputs": [
    {
     "name": "stdout",
     "output_type": "stream",
     "text": [
      "{'c': 4}\n"
     ]
    }
   ],
   "source": [
    "d = {'a': 1, 'b': 2, 'c': 4}\n",
    "d2 = {'c': 4, 'd': 4, 'e': 5}\n",
    "\n",
    "print({k: d[k] for k in d.keys() & d2.keys()})"
   ]
  },
  {
   "cell_type": "code",
   "execution_count": 24,
   "id": "ae232276",
   "metadata": {},
   "outputs": [
    {
     "name": "stdout",
     "output_type": "stream",
     "text": [
      "{'a': 1, 'b': 2, 'c': 4, 'd': 4, 'e': 5}\n",
      "{'c': 3, 'd': 4, 'e': 5, 'a': 1, 'b': 2}\n",
      "{'c': 4, 'd': 4, 'b': 2, 'a': 1, 'e': 5}\n"
     ]
    }
   ],
   "source": [
    "d = {'a': 1, 'b': 2, 'c': 3}\n",
    "d2 = {'c': 4, 'd': 4, 'e': 5}\n",
    "\n",
    "print(d | d2)\n",
    "print(d2 | d)\n",
    "print({k: d2[k] if k in d2 else d[k] for k in d.keys() | d2.keys()})"
   ]
  },
  {
   "cell_type": "markdown",
   "id": "91ffe9e6",
   "metadata": {},
   "source": [
    "### 高级用法"
   ]
  },
  {
   "cell_type": "code",
   "execution_count": 3,
   "id": "4dbda0a1",
   "metadata": {},
   "outputs": [
    {
     "data": {
      "text/plain": [
       "{'1', '2', '3'}"
      ]
     },
     "execution_count": 3,
     "metadata": {},
     "output_type": "execute_result"
    }
   ],
   "source": [
    "{'1', '2', '3'}"
   ]
  },
  {
   "cell_type": "code",
   "execution_count": 4,
   "id": "d200cf44",
   "metadata": {},
   "outputs": [
    {
     "name": "stdout",
     "output_type": "stream",
     "text": [
      "-8680532904800608659\n",
      "3539938015544383497\n",
      "961746628130433295\n"
     ]
    }
   ],
   "source": [
    "print(hash('1'))\n",
    "print(hash('2'))\n",
    "print(hash('3'))"
   ]
  },
  {
   "cell_type": "code",
   "execution_count": 5,
   "id": "41dde2c6",
   "metadata": {},
   "outputs": [
    {
     "name": "stdout",
     "output_type": "stream",
     "text": [
      "{'2', '3'}\n",
      "{'3'}\n",
      "set()\n",
      "{'1'}\n",
      "{'2', '1'}\n",
      "{'2', '1', '3'}\n"
     ]
    }
   ],
   "source": [
    "set1 = {'1', '2', '3'}\n",
    "set1.remove('1')\n",
    "print(set1)\n",
    "set1.remove('2')\n",
    "print(set1)\n",
    "set1.remove('3')\n",
    "print(set1)\n",
    "\n",
    "set1.add('1')\n",
    "print(set1)\n",
    "set1.add('2')\n",
    "print(set1)\n",
    "set1.add('3')\n",
    "print(set1)"
   ]
  },
  {
   "cell_type": "code",
   "execution_count": 6,
   "id": "6771b7fd",
   "metadata": {},
   "outputs": [
    {
     "data": {
      "text/plain": [
       "{'1', '2', '3'}"
      ]
     },
     "execution_count": 6,
     "metadata": {},
     "output_type": "execute_result"
    }
   ],
   "source": [
    "{'1'} | {'2'} | {'3'}"
   ]
  },
  {
   "cell_type": "code",
   "execution_count": 7,
   "id": "2f8a247d",
   "metadata": {},
   "outputs": [
    {
     "data": {
      "text/plain": [
       "{'2', '3'}"
      ]
     },
     "execution_count": 7,
     "metadata": {},
     "output_type": "execute_result"
    }
   ],
   "source": [
    "{'1', '2', '3'} & {'2', '3', '4'}"
   ]
  },
  {
   "cell_type": "code",
   "execution_count": 8,
   "id": "1c23fa94",
   "metadata": {},
   "outputs": [
    {
     "data": {
      "text/plain": [
       "{'2', '3', '4'}"
      ]
     },
     "execution_count": 8,
     "metadata": {},
     "output_type": "execute_result"
    }
   ],
   "source": [
    "{'1', '2', '3'} and {'2', '3', '4'}"
   ]
  },
  {
   "cell_type": "code",
   "execution_count": 9,
   "id": "ee4f5bc4",
   "metadata": {},
   "outputs": [
    {
     "data": {
      "text/plain": [
       "{'1', '2', '3'}"
      ]
     },
     "execution_count": 9,
     "metadata": {},
     "output_type": "execute_result"
    }
   ],
   "source": [
    "{'2', '3', '4'} and {'1', '2', '3'}"
   ]
  },
  {
   "cell_type": "code",
   "execution_count": 23,
   "id": "95846462",
   "metadata": {},
   "outputs": [
    {
     "name": "stdout",
     "output_type": "stream",
     "text": [
      "False\n"
     ]
    }
   ],
   "source": [
    "{} and {'2', '3', '4'}"
   ]
  },
  {
   "cell_type": "code",
   "execution_count": 11,
   "id": "147e2b11",
   "metadata": {},
   "outputs": [
    {
     "data": {
      "text/plain": [
       "False"
      ]
     },
     "execution_count": 11,
     "metadata": {},
     "output_type": "execute_result"
    }
   ],
   "source": [
    "bool({})"
   ]
  },
  {
   "cell_type": "code",
   "execution_count": 12,
   "id": "c14bf69b",
   "metadata": {},
   "outputs": [
    {
     "data": {
      "text/plain": [
       "True"
      ]
     },
     "execution_count": 12,
     "metadata": {},
     "output_type": "execute_result"
    }
   ],
   "source": [
    "bool({'1', '2', '3'})"
   ]
  },
  {
   "cell_type": "code",
   "execution_count": 20,
   "id": "1a295140",
   "metadata": {},
   "outputs": [
    {
     "name": "stdout",
     "output_type": "stream",
     "text": [
      "{1, 2}\n",
      "140334525154912\n",
      "140334525153344\n"
     ]
    }
   ],
   "source": [
    "s = {1}\n",
    "print(s.union({2}))\n",
    "print(id(s.union({2})))\n",
    "\n",
    "print(id({1, 2}))"
   ]
  },
  {
   "cell_type": "code",
   "execution_count": 18,
   "id": "131cc304",
   "metadata": {},
   "outputs": [
    {
     "name": "stdout",
     "output_type": "stream",
     "text": [
      "{1, 3}\n"
     ]
    },
    {
     "data": {
      "text/plain": [
       "140334525153344"
      ]
     },
     "execution_count": 18,
     "metadata": {},
     "output_type": "execute_result"
    }
   ],
   "source": [
    "print(s.union({3}))\n",
    "id(s.union({3}))"
   ]
  },
  {
   "cell_type": "code",
   "execution_count": 15,
   "id": "be08993d",
   "metadata": {},
   "outputs": [
    {
     "data": {
      "text/plain": [
       "140334525141280"
      ]
     },
     "execution_count": 15,
     "metadata": {},
     "output_type": "execute_result"
    }
   ],
   "source": [
    "id(s.union({2, 3}))"
   ]
  },
  {
   "cell_type": "code",
   "execution_count": 16,
   "id": "1ac30b4d",
   "metadata": {
    "scrolled": true
   },
   "outputs": [
    {
     "data": {
      "text/plain": [
       "140334525141280"
      ]
     },
     "execution_count": 16,
     "metadata": {},
     "output_type": "execute_result"
    }
   ],
   "source": [
    "id(s.union({2, 4}))"
   ]
  },
  {
   "cell_type": "markdown",
   "id": "e3361fd3",
   "metadata": {},
   "source": [
    "## 思考"
   ]
  },
  {
   "cell_type": "code",
   "execution_count": 24,
   "id": "2e544053",
   "metadata": {
    "scrolled": true
   },
   "outputs": [
    {
     "name": "stdout",
     "output_type": "stream",
     "text": [
      "140334525153344\n",
      "140334525154688\n"
     ]
    }
   ],
   "source": [
    "s2 = s.union({2, 3})\n",
    "s3 = s.union({2, 4})\n",
    "print(id(s2))\n",
    "print(id(s3))"
   ]
  },
  {
   "cell_type": "markdown",
   "id": "fdffdf76",
   "metadata": {},
   "source": [
    "使用 set 的 union 函数之后，再次时候 id 函数\n",
    "\n",
    "如果是将 union 函数的结果保存在变量中，那么 id 计算出来的 hash 值是不一样的\n",
    "\n",
    "但是，如果不额外使用变量进行存储，直接采用 id(set1.union(set2)) 的方式计算，得出来的 hash 值是一样的"
   ]
  },
  {
   "cell_type": "markdown",
   "id": "c6dc0a58",
   "metadata": {},
   "source": [
    "首先，当执行了以下操作：\n",
    "\n",
    "```python\n",
    "s2 = s.union({2, 3})\n",
    "s3 = s.union({2, 4})\n",
    "```\n",
    "\n",
    "实际上，会创建两个新的集合，因此它们的内存位置（由 `id()` 返回）是不同的\n",
    "\n",
    "但是，如果执行以下操作：\n",
    "\n",
    "```python\n",
    "id(s.union({2, 3}))\n",
    "id(s.union({2, 4}))\n",
    "```\n",
    "\n",
    "由于 Python 的内存管理机制，当这些临时创建的集合没有被分配给任何变量时，Python 可能会在完成第一个 `id()` 调用后立即回收那个集合的内存，然后在执行第二个 `union` 时重新使用相同的内存位置。这意味着两个 `id()` 调用可以返回相同的值\n",
    "\n",
    "但是，这种行为不是 Python 的标准或确定的行为。这完全取决于 Python 的内存管理和垃圾收集机制，而这些机制在不同的 Python 实现或版本中可能会有所不同。因此，不应该基于这种行为，来实现业务逻辑\n",
    "\n",
    "总的来说，当涉及到内存地址和对象 ID 时，我们应该避免对 Python 的行为做过多的假设。除非有明确的理由，否则最好不要依赖对象的 ID 或它们在内存中的位置"
   ]
  },
  {
   "cell_type": "markdown",
   "id": "6df64537",
   "metadata": {},
   "source": [
    "### links\n",
    "\n",
    "- [Python set doc](https://docs.python.org/3/library/stdtypes.html?highlight=set#set)\n",
    "- [Python collections](https://docs.python.org/3/library/collections.html)\n",
    "- [CPython setobject.c](https://github.com/python/cpython/blob/main/Objects/setobject.c)\n"
   ]
  }
 ],
 "metadata": {
  "kernelspec": {
   "display_name": "Python 3 (ipykernel)",
   "language": "python",
   "name": "python3"
  },
  "language_info": {
   "codemirror_mode": {
    "name": "ipython",
    "version": 3
   },
   "file_extension": ".py",
   "mimetype": "text/x-python",
   "name": "python",
   "nbconvert_exporter": "python",
   "pygments_lexer": "ipython3",
   "version": "3.9.12"
  }
 },
 "nbformat": 4,
 "nbformat_minor": 5
}
