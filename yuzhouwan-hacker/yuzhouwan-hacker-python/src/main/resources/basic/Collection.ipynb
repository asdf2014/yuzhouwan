{
 "cells": [
  {
   "cell_type": "markdown",
   "id": "7b1b010c",
   "metadata": {},
   "source": [
    "## Python Collection"
   ]
  },
  {
   "cell_type": "markdown",
   "id": "97e0e90d",
   "metadata": {},
   "source": [
    "### list"
   ]
  },
  {
   "cell_type": "markdown",
   "id": "9c89a0c8",
   "metadata": {},
   "source": [
    "#### 基本用法"
   ]
  },
  {
   "cell_type": "code",
   "execution_count": 34,
   "id": "6411fbb3",
   "metadata": {
    "scrolled": true
   },
   "outputs": [
    {
     "name": "stdout",
     "output_type": "stream",
     "text": [
      "[1, 2, 3]\n"
     ]
    }
   ],
   "source": [
    "l = [1, 2, 3]\n",
    "print(l)"
   ]
  },
  {
   "cell_type": "code",
   "execution_count": 35,
   "id": "762e0400",
   "metadata": {
    "scrolled": true
   },
   "outputs": [
    {
     "name": "stdout",
     "output_type": "stream",
     "text": [
      "1\n",
      "2\n",
      "3\n"
     ]
    }
   ],
   "source": [
    "for _ in l:\n",
    "    print(_)"
   ]
  },
  {
   "cell_type": "code",
   "execution_count": 36,
   "id": "6bb79f4f",
   "metadata": {},
   "outputs": [
    {
     "data": {
      "text/plain": [
       "3"
      ]
     },
     "execution_count": 36,
     "metadata": {},
     "output_type": "execute_result"
    }
   ],
   "source": [
    "len(l)"
   ]
  },
  {
   "cell_type": "markdown",
   "id": "77a53b33",
   "metadata": {},
   "source": [
    "#### 增删新元素"
   ]
  },
  {
   "cell_type": "code",
   "execution_count": 13,
   "id": "1eeae693",
   "metadata": {},
   "outputs": [
    {
     "name": "stdout",
     "output_type": "stream",
     "text": [
      "[1, 2, 3, 4]\n",
      "[1, 2, 3]\n"
     ]
    }
   ],
   "source": [
    "l = [1, 2, 3]\n",
    "\n",
    "l.append(4)\n",
    "print(l)\n",
    "\n",
    "l.remove(4)\n",
    "print(l)"
   ]
  },
  {
   "cell_type": "code",
   "execution_count": 17,
   "id": "9860e58d",
   "metadata": {},
   "outputs": [
    {
     "name": "stdout",
     "output_type": "stream",
     "text": [
      "[1, 2, 3, 4, 5, 4]\n",
      "[1, 2, 3, 5, 4]\n"
     ]
    }
   ],
   "source": [
    "l = [1, 2, 3]\n",
    "\n",
    "l.append(4)\n",
    "l.append(5)\n",
    "l.append(4)\n",
    "print(l)\n",
    "\n",
    "# 移除第一个等于 4 的元素\n",
    "l.remove(4)\n",
    "print(l)"
   ]
  },
  {
   "cell_type": "code",
   "execution_count": 19,
   "id": "e66c3481",
   "metadata": {
    "scrolled": true
   },
   "outputs": [
    {
     "name": "stdout",
     "output_type": "stream",
     "text": [
      "[]\n"
     ]
    }
   ],
   "source": [
    "l = [1, 2, 3]\n",
    "l.clear()\n",
    "print(l)"
   ]
  },
  {
   "cell_type": "code",
   "execution_count": 26,
   "id": "c4de6dca",
   "metadata": {
    "scrolled": true
   },
   "outputs": [
    {
     "name": "stdout",
     "output_type": "stream",
     "text": [
      "[1, 2, 4, 3]\n"
     ]
    }
   ],
   "source": [
    "# 插入新元素到指定下标到位置\n",
    "l = [1, 2, 3]\n",
    "l.insert(2, 4)\n",
    "print(l)"
   ]
  },
  {
   "cell_type": "markdown",
   "id": "bf1ea8e2",
   "metadata": {},
   "source": [
    "#### 合并 list"
   ]
  },
  {
   "cell_type": "code",
   "execution_count": 28,
   "id": "683c7be5",
   "metadata": {},
   "outputs": [
    {
     "name": "stdout",
     "output_type": "stream",
     "text": [
      "[1, 2, 3, 4, 5, 6]\n"
     ]
    }
   ],
   "source": [
    "l = [1, 2, 3]\n",
    "l2 = [4, 5, 6]\n",
    "print(l + l2)"
   ]
  },
  {
   "cell_type": "code",
   "execution_count": 29,
   "id": "e83eb0fe",
   "metadata": {
    "scrolled": true
   },
   "outputs": [
    {
     "name": "stdout",
     "output_type": "stream",
     "text": [
      "[1, 2, 3, 1, 2, 3]\n"
     ]
    }
   ],
   "source": [
    "l = [1, 2, 3]\n",
    "l += l\n",
    "print(l)"
   ]
  },
  {
   "cell_type": "code",
   "execution_count": 30,
   "id": "d3bb2806",
   "metadata": {},
   "outputs": [
    {
     "name": "stdout",
     "output_type": "stream",
     "text": [
      "[1, 2, 3, 1, 2, 3, 1, 2, 3]\n"
     ]
    }
   ],
   "source": [
    "l = [1, 2, 3]\n",
    "l *= 3\n",
    "print(l)"
   ]
  },
  {
   "cell_type": "markdown",
   "id": "546856c3",
   "metadata": {},
   "source": [
    "#### 单层 list"
   ]
  },
  {
   "cell_type": "code",
   "execution_count": 1,
   "id": "5864a2c1",
   "metadata": {
    "scrolled": true
   },
   "outputs": [
    {
     "data": {
      "text/plain": [
       "[3, 2, 1]"
      ]
     },
     "execution_count": 1,
     "metadata": {},
     "output_type": "execute_result"
    }
   ],
   "source": [
    "# range(start, stop, step)\n",
    "# 参数三 如果是负数，则是倒序遍历\n",
    "# 注意 [start, stop) 是前闭后开的\n",
    "[ _ for _ in range(3, 0, -1)]"
   ]
  },
  {
   "cell_type": "markdown",
   "id": "1025b945",
   "metadata": {},
   "source": [
    "#### 双层 list"
   ]
  },
  {
   "cell_type": "code",
   "execution_count": 4,
   "id": "eaad156c",
   "metadata": {},
   "outputs": [
    {
     "data": {
      "text/plain": [
       "[['宇', '宙', '湾'], ['宇', '宙', '湾']]"
      ]
     },
     "execution_count": 4,
     "metadata": {},
     "output_type": "execute_result"
    }
   ],
   "source": [
    "[[_ for _ in \"宇宙湾\"] for _ in range(2)]"
   ]
  },
  {
   "cell_type": "markdown",
   "id": "883a7f6b",
   "metadata": {},
   "source": [
    "#### Join 双层 list"
   ]
  },
  {
   "cell_type": "code",
   "execution_count": 5,
   "id": "e673809f",
   "metadata": {},
   "outputs": [
    {
     "data": {
      "text/plain": [
       "'y.u.z.h.o.u.w.a.n.c.o.m'"
      ]
     },
     "execution_count": 5,
     "metadata": {},
     "output_type": "execute_result"
    }
   ],
   "source": [
    "'.'.join(str(x) for inner_arr in ['yuzhouwan', 'com'] for x in inner_arr)"
   ]
  },
  {
   "cell_type": "markdown",
   "id": "5f3437f0",
   "metadata": {},
   "source": [
    "### set"
   ]
  },
  {
   "cell_type": "code",
   "execution_count": 32,
   "id": "c6186ab7",
   "metadata": {},
   "outputs": [
    {
     "name": "stdout",
     "output_type": "stream",
     "text": [
      "{1, 2, 3}\n"
     ]
    }
   ],
   "source": [
    "s = {1, 2, 3}\n",
    "print(s)"
   ]
  },
  {
   "cell_type": "code",
   "execution_count": 37,
   "id": "45ef9c82",
   "metadata": {
    "scrolled": true
   },
   "outputs": [
    {
     "name": "stdout",
     "output_type": "stream",
     "text": [
      "1\n",
      "2\n",
      "3\n"
     ]
    }
   ],
   "source": [
    "for _ in s:\n",
    "    print(_)"
   ]
  },
  {
   "cell_type": "code",
   "execution_count": 38,
   "id": "3ad7127a",
   "metadata": {},
   "outputs": [
    {
     "data": {
      "text/plain": [
       "3"
      ]
     },
     "execution_count": 38,
     "metadata": {},
     "output_type": "execute_result"
    }
   ],
   "source": [
    "len(s)"
   ]
  },
  {
   "cell_type": "code",
   "execution_count": 41,
   "id": "e9ac2efb",
   "metadata": {},
   "outputs": [
    {
     "name": "stdout",
     "output_type": "stream",
     "text": [
      "{1, 2, 3, 4}\n",
      "{1, 2, 3}\n"
     ]
    }
   ],
   "source": [
    "s = {1, 2, 3}\n",
    "\n",
    "s.add(4)\n",
    "print(s)\n",
    "\n",
    "s.remove(4)\n",
    "print(s)"
   ]
  },
  {
   "cell_type": "code",
   "execution_count": 43,
   "id": "1eb198c4",
   "metadata": {},
   "outputs": [
    {
     "name": "stdout",
     "output_type": "stream",
     "text": [
      "{1, 2, 3, 4}\n",
      "{1, 2, 3}\n"
     ]
    }
   ],
   "source": [
    "s = {1, 2, 3}\n",
    "\n",
    "s.add(4)\n",
    "s.add(4)\n",
    "s.add(4)\n",
    "print(s)\n",
    "\n",
    "s.remove(4)\n",
    "print(s)"
   ]
  },
  {
   "cell_type": "code",
   "execution_count": 44,
   "id": "078e64fe",
   "metadata": {},
   "outputs": [
    {
     "name": "stdout",
     "output_type": "stream",
     "text": [
      "set()\n"
     ]
    }
   ],
   "source": [
    "s = {1, 2, 3}\n",
    "s.clear()\n",
    "print(s)"
   ]
  },
  {
   "cell_type": "code",
   "execution_count": 45,
   "id": "bba6f32c",
   "metadata": {},
   "outputs": [
    {
     "ename": "AttributeError",
     "evalue": "'set' object has no attribute 'insert'",
     "output_type": "error",
     "traceback": [
      "\u001b[0;31m---------------------------------------------------------------------------\u001b[0m",
      "\u001b[0;31mAttributeError\u001b[0m                            Traceback (most recent call last)",
      "Cell \u001b[0;32mIn[45], line 2\u001b[0m\n\u001b[1;32m      1\u001b[0m s \u001b[38;5;241m=\u001b[39m {\u001b[38;5;241m1\u001b[39m, \u001b[38;5;241m2\u001b[39m, \u001b[38;5;241m3\u001b[39m}\n\u001b[0;32m----> 2\u001b[0m \u001b[43ms\u001b[49m\u001b[38;5;241;43m.\u001b[39;49m\u001b[43minsert\u001b[49m(\u001b[38;5;241m2\u001b[39m, \u001b[38;5;241m4\u001b[39m)\n\u001b[1;32m      3\u001b[0m \u001b[38;5;28mprint\u001b[39m(s)\n",
      "\u001b[0;31mAttributeError\u001b[0m: 'set' object has no attribute 'insert'"
     ]
    }
   ],
   "source": [
    "s = {1, 2, 3}\n",
    "s.insert(2, 4)\n",
    "print(s)"
   ]
  },
  {
   "cell_type": "code",
   "execution_count": 51,
   "id": "6f34edac",
   "metadata": {},
   "outputs": [
    {
     "name": "stdout",
     "output_type": "stream",
     "text": [
      "{1, 2, 3, 4, 5, 6}\n",
      "{1, 2, 3, 4, 5, 6}\n",
      "set()\n"
     ]
    }
   ],
   "source": [
    "s = {1, 2, 3}\n",
    "s2 = {4, 5, 6}\n",
    "print(s ^ s2)\n",
    "print(s | s2)\n",
    "print(s & s2)"
   ]
  },
  {
   "cell_type": "code",
   "execution_count": 52,
   "id": "310378d4",
   "metadata": {},
   "outputs": [
    {
     "name": "stdout",
     "output_type": "stream",
     "text": [
      "{3}\n"
     ]
    }
   ],
   "source": [
    "s = {1, 2, 3}\n",
    "s2 = {3, 4, 5}\n",
    "print(s & s2)"
   ]
  },
  {
   "cell_type": "markdown",
   "id": "c408366c",
   "metadata": {},
   "source": [
    "### tuple"
   ]
  },
  {
   "cell_type": "code",
   "execution_count": null,
   "id": "6ec56c5c",
   "metadata": {},
   "outputs": [],
   "source": [
    "(1, 2, 3)"
   ]
  },
  {
   "cell_type": "markdown",
   "id": "0e18ab9a",
   "metadata": {},
   "source": [
    "### dict"
   ]
  },
  {
   "cell_type": "code",
   "execution_count": null,
   "id": "022dd0ad",
   "metadata": {},
   "outputs": [],
   "source": [
    "dict(github='asdf2014', blog='yuzhouwan.com', name='宇宙湾')"
   ]
  },
  {
   "cell_type": "markdown",
   "id": "91ffe9e6",
   "metadata": {},
   "source": [
    "### 高级用法"
   ]
  },
  {
   "cell_type": "code",
   "execution_count": 1,
   "id": "4dbda0a1",
   "metadata": {},
   "outputs": [
    {
     "data": {
      "text/plain": [
       "{'1', '2', '3'}"
      ]
     },
     "execution_count": 1,
     "metadata": {},
     "output_type": "execute_result"
    }
   ],
   "source": [
    "{'1', '2', '3'}"
   ]
  },
  {
   "cell_type": "code",
   "execution_count": 2,
   "id": "d200cf44",
   "metadata": {},
   "outputs": [
    {
     "name": "stdout",
     "output_type": "stream",
     "text": [
      "156844085362250908\n",
      "-2550780257849425624\n",
      "-4433892665662431183\n"
     ]
    }
   ],
   "source": [
    "print(hash('1'))\n",
    "print(hash('2'))\n",
    "print(hash('3'))"
   ]
  },
  {
   "cell_type": "code",
   "execution_count": 3,
   "id": "41dde2c6",
   "metadata": {},
   "outputs": [
    {
     "name": "stdout",
     "output_type": "stream",
     "text": [
      "{'2', '3'}\n",
      "{'3'}\n",
      "set()\n",
      "{'1'}\n",
      "{'2', '1'}\n",
      "{'3', '2', '1'}\n"
     ]
    }
   ],
   "source": [
    "set1 = {'1', '2', '3'}\n",
    "set1.remove('1')\n",
    "print(set1)\n",
    "set1.remove('2')\n",
    "print(set1)\n",
    "set1.remove('3')\n",
    "print(set1)\n",
    "\n",
    "set1.add('1')\n",
    "print(set1)\n",
    "set1.add('2')\n",
    "print(set1)\n",
    "set1.add('3')\n",
    "print(set1)"
   ]
  },
  {
   "cell_type": "code",
   "execution_count": 4,
   "id": "6771b7fd",
   "metadata": {},
   "outputs": [
    {
     "data": {
      "text/plain": [
       "{'1', '2', '3'}"
      ]
     },
     "execution_count": 4,
     "metadata": {},
     "output_type": "execute_result"
    }
   ],
   "source": [
    "{'1'} | {'2'} | {'3'}"
   ]
  },
  {
   "cell_type": "code",
   "execution_count": 5,
   "id": "2f8a247d",
   "metadata": {},
   "outputs": [
    {
     "data": {
      "text/plain": [
       "{'2', '3'}"
      ]
     },
     "execution_count": 5,
     "metadata": {},
     "output_type": "execute_result"
    }
   ],
   "source": [
    "{'1', '2', '3'} & {'2', '3', '4'}"
   ]
  },
  {
   "cell_type": "code",
   "execution_count": 6,
   "id": "1c23fa94",
   "metadata": {},
   "outputs": [
    {
     "data": {
      "text/plain": [
       "{'2', '3', '4'}"
      ]
     },
     "execution_count": 6,
     "metadata": {},
     "output_type": "execute_result"
    }
   ],
   "source": [
    "{'1', '2', '3'} and {'2', '3', '4'}"
   ]
  },
  {
   "cell_type": "code",
   "execution_count": 7,
   "id": "ee4f5bc4",
   "metadata": {},
   "outputs": [
    {
     "data": {
      "text/plain": [
       "{'1', '2', '3'}"
      ]
     },
     "execution_count": 7,
     "metadata": {},
     "output_type": "execute_result"
    }
   ],
   "source": [
    "{'2', '3', '4'} and {'1', '2', '3'}"
   ]
  },
  {
   "cell_type": "code",
   "execution_count": 8,
   "id": "95846462",
   "metadata": {},
   "outputs": [
    {
     "data": {
      "text/plain": [
       "{}"
      ]
     },
     "execution_count": 8,
     "metadata": {},
     "output_type": "execute_result"
    }
   ],
   "source": [
    "{} and {'2', '3', '4'}"
   ]
  },
  {
   "cell_type": "code",
   "execution_count": 9,
   "id": "147e2b11",
   "metadata": {},
   "outputs": [
    {
     "data": {
      "text/plain": [
       "False"
      ]
     },
     "execution_count": 9,
     "metadata": {},
     "output_type": "execute_result"
    }
   ],
   "source": [
    "bool({})"
   ]
  },
  {
   "cell_type": "code",
   "execution_count": 10,
   "id": "c14bf69b",
   "metadata": {},
   "outputs": [
    {
     "data": {
      "text/plain": [
       "True"
      ]
     },
     "execution_count": 10,
     "metadata": {},
     "output_type": "execute_result"
    }
   ],
   "source": [
    "bool({'1', '2', '3'})"
   ]
  },
  {
   "cell_type": "code",
   "execution_count": 8,
   "id": "1a295140",
   "metadata": {},
   "outputs": [
    {
     "data": {
      "text/plain": [
       "140531211101792"
      ]
     },
     "execution_count": 8,
     "metadata": {},
     "output_type": "execute_result"
    }
   ],
   "source": [
    "s = {1}\n",
    "id(s.union({2}))"
   ]
  },
  {
   "cell_type": "code",
   "execution_count": 7,
   "id": "131cc304",
   "metadata": {},
   "outputs": [
    {
     "data": {
      "text/plain": [
       "140531211100224"
      ]
     },
     "execution_count": 7,
     "metadata": {},
     "output_type": "execute_result"
    }
   ],
   "source": [
    "id(s.union({3}))"
   ]
  },
  {
   "cell_type": "code",
   "execution_count": 5,
   "id": "be08993d",
   "metadata": {},
   "outputs": [
    {
     "data": {
      "text/plain": [
       "140531211100224"
      ]
     },
     "execution_count": 5,
     "metadata": {},
     "output_type": "execute_result"
    }
   ],
   "source": [
    "id(s.union({2, 3}))"
   ]
  },
  {
   "cell_type": "code",
   "execution_count": 6,
   "id": "1ac30b4d",
   "metadata": {
    "scrolled": true
   },
   "outputs": [
    {
     "data": {
      "text/plain": [
       "140531211100224"
      ]
     },
     "execution_count": 6,
     "metadata": {},
     "output_type": "execute_result"
    }
   ],
   "source": [
    "id(s.union({2, 4}))"
   ]
  },
  {
   "cell_type": "markdown",
   "id": "e3361fd3",
   "metadata": {},
   "source": [
    "## 思考"
   ]
  },
  {
   "cell_type": "code",
   "execution_count": 9,
   "id": "2e544053",
   "metadata": {
    "scrolled": true
   },
   "outputs": [
    {
     "name": "stdout",
     "output_type": "stream",
     "text": [
      "140531211101792\n",
      "140531211100224\n"
     ]
    }
   ],
   "source": [
    "s2 = s.union({2, 3})\n",
    "s3 = s.union({2, 4})\n",
    "print(id(s2))\n",
    "print(id(s3))"
   ]
  },
  {
   "cell_type": "markdown",
   "id": "fdffdf76",
   "metadata": {},
   "source": [
    "使用 set 的 union 函数之后，再次时候 id 函数\n",
    "\n",
    "如果是将 union 函数的结果保存在变量中，那么 id 计算出来的 hash 值是不一样的\n",
    "\n",
    "但是，如果不额外使用变量进行存储，直接采用 id(set1.union(set2)) 的方式计算，得出来的 hash 值是一样的"
   ]
  },
  {
   "cell_type": "markdown",
   "id": "c6dc0a58",
   "metadata": {},
   "source": [
    "首先，当执行了以下操作：\n",
    "\n",
    "```python\n",
    "s2 = s.union({2, 3})\n",
    "s3 = s.union({2, 4})\n",
    "```\n",
    "\n",
    "实际上，会创建两个新的集合，因此它们的内存位置（由 `id()` 返回）是不同的\n",
    "\n",
    "但是，如果执行以下操作：\n",
    "\n",
    "```python\n",
    "id(s.union({2, 3}))\n",
    "id(s.union({2, 4}))\n",
    "```\n",
    "\n",
    "由于 Python 的内存管理机制，当这些临时创建的集合没有被分配给任何变量时，Python 可能会在完成第一个 `id()` 调用后立即回收那个集合的内存，然后在执行第二个 `union` 时重新使用相同的内存位置。这意味着两个 `id()` 调用可以返回相同的值\n",
    "\n",
    "但是，这种行为不是 Python 的标准或确定的行为。这完全取决于 Python 的内存管理和垃圾收集机制，而这些机制在不同的 Python 实现或版本中可能会有所不同。因此，不应该基于这种行为，来实现业务逻辑\n",
    "\n",
    "总的来说，当涉及到内存地址和对象 ID 时，我们应该避免对 Python 的行为做过多的假设。除非有明确的理由，否则最好不要依赖对象的 ID 或它们在内存中的位置"
   ]
  },
  {
   "cell_type": "markdown",
   "id": "6df64537",
   "metadata": {},
   "source": [
    "### links\n",
    "\n",
    "- [Python set doc](https://docs.python.org/3/library/stdtypes.html?highlight=set#set)\n",
    "- [Python collections](https://docs.python.org/3/library/collections.html)"
   ]
  }
 ],
 "metadata": {
  "kernelspec": {
   "display_name": "Python 3 (ipykernel)",
   "language": "python",
   "name": "python3"
  },
  "language_info": {
   "codemirror_mode": {
    "name": "ipython",
    "version": 3
   },
   "file_extension": ".py",
   "mimetype": "text/x-python",
   "name": "python",
   "nbconvert_exporter": "python",
   "pygments_lexer": "ipython3",
   "version": "3.9.13"
  }
 },
 "nbformat": 4,
 "nbformat_minor": 5
}
