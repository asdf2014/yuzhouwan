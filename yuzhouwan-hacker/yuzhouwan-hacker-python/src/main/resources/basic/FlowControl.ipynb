{
 "cells": [
  {
   "cell_type": "markdown",
   "id": "1544f380",
   "metadata": {},
   "source": [
    "## if"
   ]
  },
  {
   "cell_type": "code",
   "execution_count": null,
   "id": "0d34dd58",
   "metadata": {},
   "outputs": [],
   "source": [
    "if True:\n",
    "    print(True)\n",
    "if False:\n",
    "    print(False)"
   ]
  },
  {
   "cell_type": "code",
   "execution_count": null,
   "id": "9f75d970",
   "metadata": {},
   "outputs": [],
   "source": [
    "if not True:\n",
    "    print(True)\n",
    "if not False:\n",
    "    print(False)"
   ]
  },
  {
   "cell_type": "markdown",
   "id": "33dca13b",
   "metadata": {},
   "source": [
    "## if-elif-else"
   ]
  },
  {
   "cell_type": "code",
   "execution_count": null,
   "id": "3fd88e92",
   "metadata": {},
   "outputs": [],
   "source": [
    "num = 0\n",
    "\n",
    "if num > 0:\n",
    "    print(\"num > 0\")\n",
    "elif num == 0:\n",
    "    print(\"num == 0\")\n",
    "else:\n",
    "    print(\"num < 0\")"
   ]
  },
  {
   "cell_type": "markdown",
   "id": "da7db23f",
   "metadata": {},
   "source": [
    "## is"
   ]
  },
  {
   "cell_type": "code",
   "execution_count": null,
   "id": "fdc2a847",
   "metadata": {
    "scrolled": false
   },
   "outputs": [],
   "source": [
    "if num is 0:\n",
    "    print(\"num is 0\")"
   ]
  },
  {
   "cell_type": "code",
   "execution_count": null,
   "id": "05ce0029",
   "metadata": {
    "scrolled": true
   },
   "outputs": [],
   "source": [
    "num2 = 0\n",
    "\n",
    "if num is num2:\n",
    "    print(\"num is num2\")"
   ]
  },
  {
   "cell_type": "code",
   "execution_count": null,
   "id": "db01ca17",
   "metadata": {},
   "outputs": [],
   "source": [
    "if \"yuzhouwan\" is \"yuzhouwan\":\n",
    "    print('\"yuzhouwan\" is \"yuzhouwan\"')"
   ]
  },
  {
   "cell_type": "code",
   "execution_count": null,
   "id": "168a4fa9",
   "metadata": {},
   "outputs": [],
   "source": [
    "s1 = \"yuzhouwan\"\n",
    "s2 = \"yuzhouwan\"\n",
    "\n",
    "if s1 is s2:\n",
    "    print('s1 is s2')"
   ]
  },
  {
   "cell_type": "code",
   "execution_count": null,
   "id": "d8073302",
   "metadata": {},
   "outputs": [],
   "source": [
    "if [1, 2] is [1, 2]:\n",
    "    print(\"[1, 2] is [1, 2]\")\n",
    "else:\n",
    "    print(\"[1, 2] is not [1, 2]\")"
   ]
  },
  {
   "cell_type": "code",
   "execution_count": null,
   "id": "f0c57b77",
   "metadata": {},
   "outputs": [],
   "source": [
    "arr1 = [1, 2]\n",
    "arr2 = [1, 2]\n",
    "\n",
    "if arr1 is arr2:\n",
    "    print(\"arr1 is arr2\")\n",
    "else:\n",
    "    print(\"arr1 is not arr2\")"
   ]
  },
  {
   "cell_type": "code",
   "execution_count": null,
   "id": "6dec8a7c",
   "metadata": {},
   "outputs": [],
   "source": [
    "print(id(arr1))\n",
    "print(id(arr2))"
   ]
  },
  {
   "cell_type": "code",
   "execution_count": null,
   "id": "29f45351",
   "metadata": {},
   "outputs": [],
   "source": [
    "print(id(s1))\n",
    "print(id(s2))"
   ]
  },
  {
   "cell_type": "code",
   "execution_count": null,
   "id": "a4b7494d",
   "metadata": {},
   "outputs": [],
   "source": [
    "print(id(num))\n",
    "print(id(num2))"
   ]
  },
  {
   "cell_type": "code",
   "execution_count": null,
   "id": "e931d03d",
   "metadata": {},
   "outputs": [],
   "source": [
    "if \"yuzhouwan\" is \"yuzhouwan\":\n",
    "    print('\"yuzhouwan\" is \"yuzhouwan\"')"
   ]
  },
  {
   "cell_type": "markdown",
   "id": "678c0b98",
   "metadata": {},
   "source": [
    "## 三元运算符"
   ]
  },
  {
   "cell_type": "code",
   "execution_count": null,
   "id": "0f58cff3",
   "metadata": {},
   "outputs": [],
   "source": [
    "\"yuzhouwan\" if True else \"宇宙湾\""
   ]
  },
  {
   "cell_type": "code",
   "execution_count": null,
   "id": "92d76de1",
   "metadata": {},
   "outputs": [],
   "source": [
    "\"yuzhouwan\" if False else \"宇宙湾\""
   ]
  },
  {
   "cell_type": "markdown",
   "id": "c1bd168d",
   "metadata": {},
   "source": [
    "## try-except"
   ]
  },
  {
   "cell_type": "code",
   "execution_count": null,
   "id": "63c01aab",
   "metadata": {},
   "outputs": [],
   "source": [
    "import sys\n",
    "\n",
    "import requests\n",
    "\n",
    "try:\n",
    "    resp = requests.get(\"https://yuzhouwan.com/\")\n",
    "    print(len(resp.text))\n",
    "except requests.HTTPError as error:\n",
    "    print(\"Cannot visit this url!\", error)\n",
    "    sys.exit(1)\n"
   ]
  },
  {
   "cell_type": "markdown",
   "id": "fbab7791",
   "metadata": {},
   "source": [
    "## for"
   ]
  },
  {
   "cell_type": "code",
   "execution_count": null,
   "id": "67a54932",
   "metadata": {},
   "outputs": [],
   "source": [
    "for _ in 'https://yuzhouwan.com':\n",
    "    print(_, end='')"
   ]
  },
  {
   "cell_type": "code",
   "execution_count": null,
   "id": "2233897c",
   "metadata": {},
   "outputs": [],
   "source": [
    "import time\n",
    "\n",
    "import requests\n",
    "\n",
    "retry_max = 3\n",
    "for i in range(retry_max):\n",
    "    try:\n",
    "        # 这里故意不小心地调用 json() 函数来解析 HTML 网页\n",
    "        requests.get(\"https://yuzhouwan.com/\").json()\n",
    "    except Exception as e:\n",
    "        print(\"Exception:\", e)\n",
    "        print(\"Retry (%s / %s)...\" % (i + 1, retry_max))\n",
    "        time.sleep(1)\n",
    "    else:\n",
    "        break\n"
   ]
  },
  {
   "cell_type": "markdown",
   "id": "511bdea9",
   "metadata": {},
   "source": [
    "## while"
   ]
  },
  {
   "cell_type": "code",
   "execution_count": null,
   "id": "b25e58d2",
   "metadata": {},
   "outputs": [],
   "source": [
    "import time\n",
    "\n",
    "import requests\n",
    "\n",
    "retry_max = 3\n",
    "count = 0\n",
    "while count < retry_max:\n",
    "    count += 1\n",
    "    try:\n",
    "        # 这里故意不小心地调用 json() 函数来解析 HTML 网页\n",
    "        requests.get(\"https://yuzhouwan.com/\").json()\n",
    "    except Exception as e:\n",
    "        print(\"Exception:\", e)\n",
    "        print(\"Retry (%s / %s)...\" % (count, retry_max))\n",
    "        time.sleep(1)\n",
    "else:\n",
    "    print(\"Done\")"
   ]
  },
  {
   "cell_type": "code",
   "execution_count": 1,
   "id": "78ac383d",
   "metadata": {},
   "outputs": [
    {
     "name": "stdout",
     "output_type": "stream",
     "text": [
      "Exception: Expecting value: line 1 column 1 (char 0)\n",
      "Retry (1 / 3)...\n",
      "Exception: Expecting value: line 1 column 1 (char 0)\n",
      "Retry (2 / 3)...\n",
      "Exception: Expecting value: line 1 column 1 (char 0)\n",
      "Retry (3 / 3)...\n"
     ]
    }
   ],
   "source": [
    "import time\n",
    "\n",
    "import requests\n",
    "\n",
    "retry_max = 3\n",
    "count = 0\n",
    "while True:\n",
    "    count += 1\n",
    "    try:\n",
    "        # 这里故意不小心地调用 json() 函数来解析 HTML 网页\n",
    "        requests.get(\"https://yuzhouwan.com/\").json()\n",
    "    except Exception as e:\n",
    "        print(\"Exception:\", e)\n",
    "        print(\"Retry (%s / %s)...\" % (count, retry_max))\n",
    "        time.sleep(1)\n",
    "    if count == retry_max:\n",
    "        break\n",
    "else:\n",
    "    print(\"Done\")"
   ]
  }
 ],
 "metadata": {
  "kernelspec": {
   "display_name": "Python 3 (ipykernel)",
   "language": "python",
   "name": "python3"
  },
  "language_info": {
   "codemirror_mode": {
    "name": "ipython",
    "version": 3
   },
   "file_extension": ".py",
   "mimetype": "text/x-python",
   "name": "python",
   "nbconvert_exporter": "python",
   "pygments_lexer": "ipython3",
   "version": "3.9.13"
  }
 },
 "nbformat": 4,
 "nbformat_minor": 5
}
