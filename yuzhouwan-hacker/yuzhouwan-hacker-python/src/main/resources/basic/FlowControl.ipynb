{
 "cells": [
  {
   "cell_type": "markdown",
   "id": "1544f380",
   "metadata": {},
   "source": [
    "## if"
   ]
  },
  {
   "cell_type": "code",
   "execution_count": 1,
   "id": "0d34dd58",
   "metadata": {},
   "outputs": [
    {
     "name": "stdout",
     "output_type": "stream",
     "text": [
      "True\n",
      "True\n"
     ]
    }
   ],
   "source": [
    "if True:\n",
    "    print(True)\n",
    "if not False:\n",
    "    print(True)\n",
    "\n",
    "if False:\n",
    "    print(False)\n",
    "if not True:\n",
    "    print(False)"
   ]
  },
  {
   "cell_type": "markdown",
   "id": "33dca13b",
   "metadata": {},
   "source": [
    "## if-elif-else"
   ]
  },
  {
   "cell_type": "code",
   "execution_count": 2,
   "id": "3fd88e92",
   "metadata": {},
   "outputs": [
    {
     "name": "stdout",
     "output_type": "stream",
     "text": [
      "num == 0\n"
     ]
    }
   ],
   "source": [
    "num = 0\n",
    "\n",
    "if num > 3:\n",
    "    print(\"num > 0\")\n",
    "elif num == 2:\n",
    "    print(\"num == 2\")\n",
    "elif num == 1:\n",
    "    print(\"num == 1\")\n",
    "elif num == 0:\n",
    "    print(\"num == 0\")\n",
    "else:\n",
    "    print(\"num < 0\")"
   ]
  },
  {
   "cell_type": "markdown",
   "id": "da7db23f",
   "metadata": {},
   "source": [
    "## is"
   ]
  },
  {
   "cell_type": "code",
   "execution_count": 3,
   "id": "fdc2a847",
   "metadata": {
    "scrolled": false
   },
   "outputs": [
    {
     "name": "stdout",
     "output_type": "stream",
     "text": [
      "num is 0\n"
     ]
    },
    {
     "name": "stderr",
     "output_type": "stream",
     "text": [
      "<>:1: SyntaxWarning: \"is\" with a literal. Did you mean \"==\"?\n",
      "<>:1: SyntaxWarning: \"is\" with a literal. Did you mean \"==\"?\n",
      "/var/folders/b2/nxkd9h4x5q50bybm3wxxm0cm0000gn/T/ipykernel_82485/3283642959.py:1: SyntaxWarning: \"is\" with a literal. Did you mean \"==\"?\n",
      "  if num is 0:\n"
     ]
    }
   ],
   "source": [
    "if num is 0:\n",
    "    print(\"num is 0\")"
   ]
  },
  {
   "cell_type": "code",
   "execution_count": 4,
   "id": "05ce0029",
   "metadata": {
    "scrolled": true
   },
   "outputs": [
    {
     "name": "stdout",
     "output_type": "stream",
     "text": [
      "num is num2\n"
     ]
    }
   ],
   "source": [
    "num2 = 0\n",
    "\n",
    "if num is num2:\n",
    "    print(\"num is num2\")"
   ]
  },
  {
   "cell_type": "code",
   "execution_count": 5,
   "id": "db01ca17",
   "metadata": {},
   "outputs": [
    {
     "name": "stdout",
     "output_type": "stream",
     "text": [
      "\"yuzhouwan\" is \"yuzhouwan\"\n"
     ]
    },
    {
     "name": "stderr",
     "output_type": "stream",
     "text": [
      "<>:1: SyntaxWarning: \"is\" with a literal. Did you mean \"==\"?\n",
      "<>:1: SyntaxWarning: \"is\" with a literal. Did you mean \"==\"?\n",
      "/var/folders/b2/nxkd9h4x5q50bybm3wxxm0cm0000gn/T/ipykernel_82485/2967733698.py:1: SyntaxWarning: \"is\" with a literal. Did you mean \"==\"?\n",
      "  if \"yuzhouwan\" is \"yuzhouwan\":\n"
     ]
    }
   ],
   "source": [
    "if \"yuzhouwan\" is \"yuzhouwan\":\n",
    "    print('\"yuzhouwan\" is \"yuzhouwan\"')"
   ]
  },
  {
   "cell_type": "code",
   "execution_count": 6,
   "id": "168a4fa9",
   "metadata": {},
   "outputs": [
    {
     "name": "stdout",
     "output_type": "stream",
     "text": [
      "s1 is s2\n"
     ]
    }
   ],
   "source": [
    "s1 = \"yuzhouwan\"\n",
    "s2 = \"yuzhouwan\"\n",
    "\n",
    "if s1 is s2:\n",
    "    print('s1 is s2')"
   ]
  },
  {
   "cell_type": "code",
   "execution_count": 7,
   "id": "d8073302",
   "metadata": {},
   "outputs": [
    {
     "name": "stdout",
     "output_type": "stream",
     "text": [
      "[1, 2] is not [1, 2]\n",
      "<class 'list'>\n"
     ]
    }
   ],
   "source": [
    "if [1, 2] is [1, 2]:\n",
    "    print(\"[1, 2] is [1, 2]\")\n",
    "else:\n",
    "    print(\"[1, 2] is not [1, 2]\")\n",
    "\n",
    "print(type([1, 2]))"
   ]
  },
  {
   "cell_type": "code",
   "execution_count": 8,
   "id": "f0c57b77",
   "metadata": {},
   "outputs": [
    {
     "name": "stdout",
     "output_type": "stream",
     "text": [
      "arr1 is not arr2\n"
     ]
    }
   ],
   "source": [
    "arr1 = [1, 2]\n",
    "arr2 = [1, 2]\n",
    "\n",
    "if arr1 is arr2:\n",
    "    print(\"arr1 is arr2\")\n",
    "else:\n",
    "    print(\"arr1 is not arr2\")"
   ]
  },
  {
   "cell_type": "code",
   "execution_count": 9,
   "id": "6dec8a7c",
   "metadata": {},
   "outputs": [
    {
     "name": "stdout",
     "output_type": "stream",
     "text": [
      "140202416541888\n",
      "140202416544000\n"
     ]
    }
   ],
   "source": [
    "print(id(arr1))\n",
    "print(id(arr2))"
   ]
  },
  {
   "cell_type": "code",
   "execution_count": 10,
   "id": "29f45351",
   "metadata": {},
   "outputs": [
    {
     "name": "stdout",
     "output_type": "stream",
     "text": [
      "140202385079088\n",
      "140202385079088\n"
     ]
    }
   ],
   "source": [
    "print(id(s1))\n",
    "print(id(s2))"
   ]
  },
  {
   "cell_type": "code",
   "execution_count": 11,
   "id": "a4b7494d",
   "metadata": {},
   "outputs": [
    {
     "name": "stdout",
     "output_type": "stream",
     "text": [
      "140202279573776\n",
      "140202279573776\n"
     ]
    }
   ],
   "source": [
    "print(id(num))\n",
    "print(id(num2))"
   ]
  },
  {
   "cell_type": "markdown",
   "id": "678c0b98",
   "metadata": {},
   "source": [
    "## 三元运算符"
   ]
  },
  {
   "cell_type": "code",
   "execution_count": 12,
   "id": "0f58cff3",
   "metadata": {},
   "outputs": [
    {
     "data": {
      "text/plain": [
       "'yuzhouwan'"
      ]
     },
     "execution_count": 12,
     "metadata": {},
     "output_type": "execute_result"
    }
   ],
   "source": [
    "# if 1 == 1:\n",
    "#     print('yuzhouwan')\n",
    "# else:\n",
    "#     print('宇宙湾')\n",
    "\n",
    "\"yuzhouwan\" if 1 == 1 else \"宇宙湾\""
   ]
  },
  {
   "cell_type": "code",
   "execution_count": 13,
   "id": "92d76de1",
   "metadata": {},
   "outputs": [
    {
     "data": {
      "text/plain": [
       "'宇宙湾'"
      ]
     },
     "execution_count": 13,
     "metadata": {},
     "output_type": "execute_result"
    }
   ],
   "source": [
    "\"yuzhouwan\" if 1 != 1 else \"宇宙湾\""
   ]
  },
  {
   "cell_type": "markdown",
   "id": "c1bd168d",
   "metadata": {},
   "source": [
    "## try-except"
   ]
  },
  {
   "cell_type": "code",
   "execution_count": 14,
   "id": "63c01aab",
   "metadata": {},
   "outputs": [
    {
     "name": "stdout",
     "output_type": "stream",
     "text": [
      "48719\n"
     ]
    }
   ],
   "source": [
    "import sys\n",
    "\n",
    "import requests\n",
    "\n",
    "try:\n",
    "    resp = requests.get(\"https://yuzhouwan.com/\")\n",
    "    print(len(resp.text))\n",
    "except requests.HTTPError as error:\n",
    "    print(\"Cannot visit this url!\", error)\n",
    "    sys.exit(1)\n"
   ]
  },
  {
   "cell_type": "markdown",
   "id": "fbab7791",
   "metadata": {},
   "source": [
    "## for"
   ]
  },
  {
   "cell_type": "code",
   "execution_count": 15,
   "id": "67a54932",
   "metadata": {},
   "outputs": [
    {
     "name": "stdout",
     "output_type": "stream",
     "text": [
      "https://yuzhouwan.com"
     ]
    }
   ],
   "source": [
    "for _ in 'https://yuzhouwan.com':\n",
    "    print(_, end='')"
   ]
  },
  {
   "cell_type": "code",
   "execution_count": 16,
   "id": "2233897c",
   "metadata": {},
   "outputs": [
    {
     "name": "stdout",
     "output_type": "stream",
     "text": [
      "Exception: Expecting value: line 1 column 1 (char 0)\n",
      "Retry (1 / 3)...\n",
      "Exception: Expecting value: line 1 column 1 (char 0)\n",
      "Retry (2 / 3)...\n",
      "Exception: Expecting value: line 1 column 1 (char 0)\n",
      "Retry (3 / 3)...\n"
     ]
    }
   ],
   "source": [
    "import time\n",
    "\n",
    "import requests\n",
    "\n",
    "# {'username': 'yuzhouwan', 'github': 'asdf2014'}\n",
    "# <div>xxx</div>\n",
    "\n",
    "retry_max = 3\n",
    "# [0, 1, 2]\n",
    "for i in range(retry_max):\n",
    "    try:\n",
    "        # 这里故意不小心地调用 json() 函数来解析 HTML 网页\n",
    "        requests.get(\"https://yuzhouwan.com/\").json()\n",
    "    except Exception as e:\n",
    "        print(\"Exception:\", e)\n",
    "        print(\"Retry (%s / %s)...\" % (i + 1, retry_max))\n",
    "        time.sleep(1)\n",
    "    else:\n",
    "        break\n"
   ]
  },
  {
   "cell_type": "markdown",
   "id": "511bdea9",
   "metadata": {},
   "source": [
    "## while"
   ]
  },
  {
   "cell_type": "code",
   "execution_count": 17,
   "id": "b25e58d2",
   "metadata": {},
   "outputs": [
    {
     "name": "stdout",
     "output_type": "stream",
     "text": [
      "Exception: Expecting value: line 1 column 1 (char 0)\n",
      "Retry (1 / 3)...\n",
      "Exception: Expecting value: line 1 column 1 (char 0)\n",
      "Retry (2 / 3)...\n",
      "Exception: Expecting value: line 1 column 1 (char 0)\n",
      "Retry (3 / 3)...\n",
      "Done\n"
     ]
    }
   ],
   "source": [
    "import time\n",
    "\n",
    "import requests\n",
    "\n",
    "retry_max = 3\n",
    "count = 0\n",
    "while count < retry_max:\n",
    "    count += 1\n",
    "    try:\n",
    "        # 这里故意不小心地调用 json() 函数来解析 HTML 网页\n",
    "        requests.get(\"https://yuzhouwan.com/\").json()\n",
    "    except Exception as e:\n",
    "        print(\"Exception:\", e)\n",
    "        print(\"Retry (%s / %s)...\" % (count, retry_max))\n",
    "        time.sleep(1)\n",
    "else:\n",
    "    print(\"Done\")"
   ]
  },
  {
   "cell_type": "code",
   "execution_count": 18,
   "id": "78ac383d",
   "metadata": {},
   "outputs": [
    {
     "name": "stdout",
     "output_type": "stream",
     "text": [
      "Exception: Expecting value: line 1 column 1 (char 0)\n",
      "Retry (1 / 3)...\n",
      "Exception: Expecting value: line 1 column 1 (char 0)\n",
      "Retry (2 / 3)...\n",
      "Exception: Expecting value: line 1 column 1 (char 0)\n",
      "Retry (3 / 3)...\n"
     ]
    }
   ],
   "source": [
    "import time\n",
    "\n",
    "import requests\n",
    "\n",
    "retry_max = 3\n",
    "count = 0\n",
    "while True:\n",
    "    count += 1\n",
    "    try:\n",
    "        # 这里故意不小心地调用 json() 函数来解析 HTML 网页\n",
    "        requests.get(\"https://yuzhouwan.com/\").json()\n",
    "    except Exception as e:\n",
    "        print(\"Exception:\", e)\n",
    "        print(\"Retry (%s / %s)...\" % (count, retry_max))\n",
    "        time.sleep(1)\n",
    "    if count == retry_max:\n",
    "        break\n",
    "else:\n",
    "    print(\"Done\")"
   ]
  }
 ],
 "metadata": {
  "kernelspec": {
   "display_name": "Python 3 (ipykernel)",
   "language": "python",
   "name": "python3"
  },
  "language_info": {
   "codemirror_mode": {
    "name": "ipython",
    "version": 3
   },
   "file_extension": ".py",
   "mimetype": "text/x-python",
   "name": "python",
   "nbconvert_exporter": "python",
   "pygments_lexer": "ipython3",
   "version": "3.9.12"
  }
 },
 "nbformat": 4,
 "nbformat_minor": 5
}
