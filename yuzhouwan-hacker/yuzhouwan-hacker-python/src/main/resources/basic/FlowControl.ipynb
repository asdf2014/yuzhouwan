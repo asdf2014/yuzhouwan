{
 "cells": [
  {
   "cell_type": "markdown",
   "id": "7712efca",
   "metadata": {},
   "source": [
    "## if"
   ]
  },
  {
   "cell_type": "code",
   "execution_count": 1,
   "id": "0f58cff3",
   "metadata": {},
   "outputs": [
    {
     "data": {
      "text/plain": [
       "-1"
      ]
     },
     "execution_count": 1,
     "metadata": {},
     "output_type": "execute_result"
    }
   ],
   "source": [
    "-1 if True else 0"
   ]
  },
  {
   "cell_type": "code",
   "execution_count": 2,
   "id": "b9fd9d94",
   "metadata": {},
   "outputs": [
    {
     "data": {
      "text/plain": [
       "0"
      ]
     },
     "execution_count": 2,
     "metadata": {},
     "output_type": "execute_result"
    }
   ],
   "source": [
    "-1 if False else 0"
   ]
  },
  {
   "cell_type": "markdown",
   "id": "2365ddba",
   "metadata": {},
   "source": [
    "## try-except"
   ]
  },
  {
   "cell_type": "code",
   "execution_count": 4,
   "id": "b9e5439c",
   "metadata": {},
   "outputs": [
    {
     "name": "stdout",
     "output_type": "stream",
     "text": [
      "48719\n"
     ]
    }
   ],
   "source": [
    "import sys\n",
    "\n",
    "import requests\n",
    "\n",
    "try:\n",
    "    resp = requests.get(\"https://yuzhouwan.com/\")\n",
    "    print(len(resp.text))\n",
    "except requests.HTTPError as error:\n",
    "    print(\"Cannot visit this url!\", error)\n",
    "    sys.exit(1)\n"
   ]
  },
  {
   "cell_type": "markdown",
   "id": "e344a4df",
   "metadata": {},
   "source": [
    "## retry"
   ]
  },
  {
   "cell_type": "code",
   "execution_count": 6,
   "id": "07d47c53",
   "metadata": {},
   "outputs": [
    {
     "name": "stdout",
     "output_type": "stream",
     "text": [
      "Exception: Expecting value: line 1 column 1 (char 0)\n",
      "Retry (1 / 3)...\n",
      "Exception: Expecting value: line 1 column 1 (char 0)\n",
      "Retry (2 / 3)...\n",
      "Exception: Expecting value: line 1 column 1 (char 0)\n",
      "Retry (3 / 3)...\n"
     ]
    }
   ],
   "source": [
    "import time\n",
    "\n",
    "import requests\n",
    "\n",
    "retry_max = 3\n",
    "for i in range(retry_max):\n",
    "    try:\n",
    "        # 这里故意不小心地调用 json() 函数来解析 HTML 网页\n",
    "        requests.get(\"https://yuzhouwan.com/\").json()\n",
    "    except Exception as e:\n",
    "        print(\"Exception:\", e)\n",
    "        print(\"Retry (%s / %s)...\" % (i + 1, retry_max))\n",
    "        time.sleep(1)\n",
    "    else:\n",
    "        break\n"
   ]
  },
  {
   "cell_type": "code",
   "execution_count": null,
   "id": "b63569eb",
   "metadata": {},
   "outputs": [],
   "source": []
  }
 ],
 "metadata": {
  "kernelspec": {
   "display_name": "Python 3 (ipykernel)",
   "language": "python",
   "name": "python3"
  },
  "language_info": {
   "codemirror_mode": {
    "name": "ipython",
    "version": 3
   },
   "file_extension": ".py",
   "mimetype": "text/x-python",
   "name": "python",
   "nbconvert_exporter": "python",
   "pygments_lexer": "ipython3",
   "version": "3.9.13"
  }
 },
 "nbformat": 4,
 "nbformat_minor": 5
}
