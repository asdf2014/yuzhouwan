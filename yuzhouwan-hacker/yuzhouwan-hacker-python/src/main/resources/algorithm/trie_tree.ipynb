{
 "cells": [
  {
   "cell_type": "code",
   "execution_count": 1,
   "id": "12d518fa",
   "metadata": {},
   "outputs": [],
   "source": [
    "class TrieNode:\n",
    "    def __init__(self):\n",
    "        self.children = {}\n",
    "        self.is_end_of_word = False"
   ]
  },
  {
   "cell_type": "code",
   "execution_count": 2,
   "id": "86741c2d",
   "metadata": {},
   "outputs": [],
   "source": [
    "class Trie:\n",
    "    def __init__(self):\n",
    "        self.root = TrieNode()\n",
    "\n",
    "    def insert(self, word):\n",
    "        node = self.root\n",
    "        for char in word:\n",
    "            if char not in node.children:\n",
    "                node.children[char] = TrieNode()\n",
    "            node = node.children[char]\n",
    "        node.is_end_of_word = True\n",
    "\n",
    "    def search(self, word):\n",
    "        node = self.root\n",
    "        for char in word:\n",
    "            if char not in node.children:\n",
    "                return False\n",
    "            node = node.children[char]\n",
    "        return node.is_end_of_word\n",
    "\n",
    "    def startswith(self, prefix):\n",
    "        node = self.root\n",
    "        for char in prefix:\n",
    "            if char not in node.children:\n",
    "                return False\n",
    "            node = node.children[char]\n",
    "        return True\n",
    "\n",
    "    def delete(self, word):\n",
    "        def helper(node, word, index):\n",
    "            if index == len(word):\n",
    "                if not node.is_end_of_word:\n",
    "                    return False\n",
    "                node.is_end_of_word = False\n",
    "                # 仅当该节点没有其他子节点时才删除它\n",
    "                return len(node.children) == 0\n",
    "\n",
    "            char = word[index]\n",
    "            if char not in node.children:\n",
    "                return False\n",
    "\n",
    "            # 递归到 Trie Tree 的下一层\n",
    "            delete_current_node = helper(node.children[char], word, index + 1)\n",
    "\n",
    "            # 如果递归调用返回 True，则删除当前子节点\n",
    "            if delete_current_node:\n",
    "                del node.children[char]\n",
    "                # 如果当前节点没有子节点且不是单词的结尾，则返回 True\n",
    "                return len(node.children) == 0 and not node.is_end_of_word\n",
    "\n",
    "            return False\n",
    "\n",
    "        # 从根节点开始删除\n",
    "        helper(self.root, word, 0)\n",
    "\n",
    "    def print_all_words(self):\n",
    "        def dfs(node, prefix):\n",
    "            if node.is_end_of_word:\n",
    "                print('-', prefix)\n",
    "            for char, child_node in node.children.items():\n",
    "                dfs(child_node, prefix + char)\n",
    "        print()\n",
    "        print('All of words'.center(50, '-'))\n",
    "        dfs(self.root, '')"
   ]
  },
  {
   "cell_type": "code",
   "execution_count": 3,
   "id": "a1851af4",
   "metadata": {},
   "outputs": [
    {
     "name": "stdout",
     "output_type": "stream",
     "text": [
      "\n",
      "-------------------All of words-------------------\n",
      "- yuzhouwan\n",
      "- yuzhouwan.com\n",
      "- asdf2014\n"
     ]
    }
   ],
   "source": [
    "trie = Trie()\n",
    "trie.insert(\"yuzhouwan\")\n",
    "trie.insert(\"yuzhouwan.com\")\n",
    "trie.insert(\"asdf2014\")\n",
    "trie.print_all_words()"
   ]
  },
  {
   "cell_type": "code",
   "execution_count": 4,
   "id": "3af902d2",
   "metadata": {},
   "outputs": [
    {
     "name": "stdout",
     "output_type": "stream",
     "text": [
      "True\n",
      "False\n",
      "True\n",
      "\n",
      "-------------------All of words-------------------\n",
      "- yuzhouwan\n"
     ]
    }
   ],
   "source": [
    "trie = Trie()\n",
    "trie.insert(\"yuzhouwan\")\n",
    "print(trie.search(\"yuzhouwan\"))\n",
    "print(trie.search(\"yuzhouwan.com\"))\n",
    "print(trie.startswith(\"yuzhouwan\"))\n",
    "trie.print_all_words()"
   ]
  },
  {
   "cell_type": "code",
   "execution_count": 5,
   "id": "af261a67",
   "metadata": {},
   "outputs": [
    {
     "name": "stdout",
     "output_type": "stream",
     "text": [
      "True\n",
      "\n",
      "-------------------All of words-------------------\n",
      "- yuzhouwan\n",
      "- asdf2014\n"
     ]
    }
   ],
   "source": [
    "trie.insert(\"asdf2014\")\n",
    "print(trie.search(\"asdf2014\"))\n",
    "trie.print_all_words()"
   ]
  },
  {
   "cell_type": "code",
   "execution_count": 6,
   "id": "05dbe6ba",
   "metadata": {},
   "outputs": [
    {
     "name": "stdout",
     "output_type": "stream",
     "text": [
      "False\n",
      "True\n",
      "\n",
      "-------------------All of words-------------------\n",
      "- asdf2014\n"
     ]
    }
   ],
   "source": [
    "trie.delete(\"yuzhouwan\")\n",
    "print(trie.search(\"yuzhouwan\"))\n",
    "print(trie.search(\"asdf2014\"))\n",
    "trie.print_all_words()"
   ]
  },
  {
   "cell_type": "code",
   "execution_count": 7,
   "id": "3dff3f9d",
   "metadata": {},
   "outputs": [
    {
     "name": "stdout",
     "output_type": "stream",
     "text": [
      "True\n",
      "\n",
      "-------------------All of words-------------------\n",
      "- asdf2014\n",
      "- yuzhouwan.com\n"
     ]
    }
   ],
   "source": [
    "trie.insert(\"yuzhouwan.com\")\n",
    "print(trie.search(\"yuzhouwan.com\"))\n",
    "trie.print_all_words()"
   ]
  }
 ],
 "metadata": {
  "kernelspec": {
   "display_name": "Python 3 (ipykernel)",
   "language": "python",
   "name": "python3"
  },
  "language_info": {
   "codemirror_mode": {
    "name": "ipython",
    "version": 3
   },
   "file_extension": ".py",
   "mimetype": "text/x-python",
   "name": "python",
   "nbconvert_exporter": "python",
   "pygments_lexer": "ipython3",
   "version": "3.9.13"
  }
 },
 "nbformat": 4,
 "nbformat_minor": 5
}
